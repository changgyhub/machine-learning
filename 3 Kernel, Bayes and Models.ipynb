{
 "cells": [
  {
   "cell_type": "markdown",
   "metadata": {
    "slideshow": {
     "slide_type": "slide"
    }
   },
   "source": [
    "# Assignment 3 - basic classifiers\n",
    "\n",
    "Math practice and coding application for main classifiers introduced in Chapter 3 of the Python machine learning book. "
   ]
  },
  {
   "cell_type": "markdown",
   "metadata": {
    "slideshow": {
     "slide_type": "subslide"
    }
   },
   "source": [
    "## Weighting\n",
    "\n",
    "Note that this assignment is more difficult than the previous ones, and thus has a higher weighting 3 and longer duration (3 weeks). Each one of the previous two assignments has a weighting 1.\n",
    "\n",
    "Specifically, the first 3 assignments contribute to your continuous assessment as follows:\n",
    "\n",
    "Assignment weights: $w_1 = 1, w_2 = 1, w_3 = 3$\n",
    "\n",
    "Assignment grades: $g_1, g_2, g_3$\n",
    "\n",
    "Weighted average: $\\frac{1}{\\sum_i w_i} \\times \\sum_i \\left(w_i \\times g_i \\right)$\n",
    "\n",
    "Future assignments will be added analogously."
   ]
  },
  {
   "cell_type": "markdown",
   "metadata": {
    "slideshow": {
     "slide_type": "slide"
    }
   },
   "source": [
    "# RBF kernel (20 points)\n",
    "\n",
    "Show that a Gaussian RBF kernel can be expressed as a dot product:\n",
    "$$\n",
    "K(\\mathbf{x}, \\mathbf{y}) \n",
    "= e^\\frac{-|\\mathbf{x} - \\mathbf{y}|^2}{2} \n",
    "= \\phi(\\mathbf{x})^T \\phi(\\mathbf{y})\n",
    "$$\n",
    "by spelling out the mapping function $\\phi$.\n",
    "\n",
    "For simplicity\n",
    "* you can assume both $\\mathbf{x}$ and $\\mathbf{y}$ are 2D vectors\n",
    "$\n",
    "x =\n",
    "\\begin{pmatrix}\n",
    "x_1 \\\\\n",
    "x_2\n",
    "\\end{pmatrix}\n",
    ", \\;\n",
    "y =\n",
    "\\begin{pmatrix}\n",
    "y_1 \\\\\n",
    "y_2\n",
    "\\end{pmatrix}\n",
    "$\n",
    "* we use a scalar unit variance here\n",
    "\n",
    "even though the proof can be extended for vectors $\\mathbf{x}$ $\\mathbf{y}$ and general covariance matrices.\n",
    "\n",
    "Hint: use Taylor series expansion of the exponential function"
   ]
  },
  {
   "cell_type": "markdown",
   "metadata": {},
   "source": [
    "## Answer\n",
    "We denote $e^x$ as exp($x$). Since $\n",
    "\\mathbf x =\n",
    "\\begin{pmatrix}\n",
    "x_1 \\\\\n",
    "x_2\n",
    "\\end{pmatrix}\n",
    ", \\;\n",
    "\\mathbf y =\n",
    "\\begin{pmatrix}\n",
    "y_1 \\\\\n",
    "y_2\n",
    "\\end{pmatrix}\n",
    "$, we have\n",
    "\n",
    "$$\n",
    "\\begin{align}\n",
    "K(\\mathbf{x}, \\mathbf{y}) = \\text{exp}(\\frac{-||\\mathbf{x} - \\mathbf{y}||^2}{2}) & =  \\text{exp}(\\frac{-||(x_1-y_1, x_2-y_2)||^2}{2} )\\\\\n",
    "& = \\text{exp}(\\frac{-(x_1-y_1)^2-(x_2-y_2)^2}{2})\\\\\n",
    "& = \\text{exp}(\\frac{-{x_1}^2-{x_2}^2-{y_1}^2-{y_2}^2+2 x_1 y_1+2 x_2 y_2}{2}) \\\\\n",
    "& = \\text{exp}(\\frac{-||\\mathbf{x}||^2}{2}) \\text{ exp}(\\frac{-||\\mathbf{y}||^2}{2}) \\text{ exp}(x_1 y_1 + x_2 y_2)\n",
    "\\end{align}\n",
    "$$\n",
    "\n",
    "<br>By Taylor series of $f(x)$ on $a$, $e^x$ at $a=0$ can be expressed as $\\sum_{n=0}^{\\infty} \\frac{x^n}{n!} = 1 + x + \\frac{x^2}{2!} +$ ... for $x \\in \\mathbb{R}^1$. Therefore,<br><br>\n",
    "\n",
    "$$K(\\mathbf{x}, \\mathbf{y}) = \\text{exp}(\\frac{-||\\mathbf{x}||^2}{2}) \\text{ exp}(\\frac{-||\\mathbf{y}||^2}{2}) \\sum_{n=0}^{\\infty} \\frac{(x_1 y_1 + x_2 y_2)^n}{n!}$$\n",
    "\n",
    "<br>By binomial expansion, we have\n",
    "\n",
    "$$ (x_1 y_1 + x_2 y_2)^n = \\sum_{i = 0}^{n} \\binom{n}{i} (x_1 y_1)^{n-i} (x_2 y_2)^i = \\sum_{i = 0}^{n} \\sqrt{\\binom{n}{i}} (x_1^{n-i} x_2^i) \\sqrt{\\binom{n}{i}} (y_1^{n-i} y_2^i)$$\n",
    "\n",
    "<br>We let $\\xi_{n}(\\mathbf{x}) = \\xi_{n}(x_1, x_2) = \\left[\\sqrt{\\binom{n}{i}} (x_1^{n-i} x_2^i) \\right] = \\left[\\sqrt{\\binom{n}{0}} (x_1^{n} x_2^0), \\sqrt{\\binom{n}{1}} (x_1^{n-1} x_2^1), ..., \\sqrt{\\binom{n}{n}} (x_1^{0} x_2^n)\\right] \\in \\mathbb{R}^{\\text{n}}$. <br>\n",
    "\n",
    "<br>Hence we have <br>\n",
    "\n",
    "$$ \\left\\{\n",
    "\\begin{aligned}\n",
    "\\phi(\\mathbf{x}) & = \\text{exp}(\\frac{-||\\mathbf{x}||^2}{2}) \\left[1, \\frac{\\xi_{1}(\\mathbf{x})}{\\sqrt{1!}}, \\frac{\\xi_{2}(\\mathbf{x})}{\\sqrt{2!}} , \\frac{\\xi_{3}(\\mathbf{x})}{\\sqrt{3!}} , ... \\right]^T \\\\\n",
    "\\phi(\\mathbf{y}) & = \\text{exp}(\\frac{-||\\mathbf{y}||^2}{2}) \\left[1, \\frac{\\xi_{1}(\\mathbf{y})}{\\sqrt{1!}}, \\frac{\\xi_{2}(\\mathbf{y})}{\\sqrt{2!}} , \\frac{\\xi_{3}(\\mathbf{y})}{\\sqrt{3!}} , ... \\right]^T\n",
    "\\end{aligned}\n",
    "\\right.\n",
    "$$\n",
    "\n",
    "<br>The mapping function is therefore $\\phi(\\mathbf{x}) = \\text{exp}(\\frac{-||\\mathbf{x}||^2}{2}) \\left[1, \\frac{\\xi_{1}(\\mathbf{x})}{\\sqrt{1!}}, \\frac{\\xi_{2}(\\mathbf{x})}{\\sqrt{2!}} , \\frac{\\xi_{3}(\\mathbf{x})}{\\sqrt{3!}} , ... \\right]^T$, where $\\xi_{n}(\\mathbf{x}) = \\left[\\sqrt{\\binom{n}{0}} (x_1^{n} x_2^0), \\sqrt{\\binom{n}{1}} (x_1^{n-1} x_2^1), ..., \\sqrt{\\binom{n}{n}} (x_1^{0} x_2^n)\\right]$."
   ]
  },
  {
   "cell_type": "markdown",
   "metadata": {
    "slideshow": {
     "slide_type": "slide"
    }
   },
   "source": [
    "# Kernel SVM complexity (10 points)\n",
    "\n",
    "How would the complexity (in terms of number of parameters) of a trained kernel SVM change with the amount of training data, and why?\n",
    "Note that the answer may depend on the specific kernel used as well as the amount of training data.\n",
    "Consider specifically the following types of kernels $K(\\mathbf{x}, \\mathbf{y})$.\n",
    "* linear:\n",
    "$$\n",
    "K\\left(\\mathbf{x}, \\mathbf{y}\\right) = \\mathbf{x}^T \\mathbf{y}\n",
    "$$\n",
    "* polynomial with degree $q$:\n",
    "$$\n",
    "K\\left(\\mathbf{x}, \\mathbf{y}\\right) =\n",
    "(\\mathbf{x}^T\\mathbf{y} + 1)^q\n",
    "$$\n",
    "* RBF with distance function $D$:\n",
    "$$\n",
    "K\\left(\\mathbf{x}, \\mathbf{y} \\right) = e^{-\\frac{D\\left(\\mathbf{x}, \\mathbf{y} \\right)}{2s^2}}\n",
    "$$\n"
   ]
  },
  {
   "cell_type": "markdown",
   "metadata": {},
   "source": [
    "## Answer\n",
    "\n",
    "For all examples, we assume $\\mathbf{x}, \\mathbf{y} \\in \\mathbb{R}^\\text{d}$.\n",
    "\n",
    "### Linear:\n",
    "For linear kernal, the mapping function $\\phi(\\mathbf{x}) = \\mathbf{x}$, which mapps $\\mathbb{R}^\\text{d}$ to $\\mathbb{R}^\\text{d}$, therefore the size of data is unchanged.<br>\n",
    "There are not explicit parameters, therefore the time cost increase linearly with the dimension of data, or the amount of data increase $n$ times, the time cost simply increase $O(n)$ time. Both changes in dimension or data amount will not afftect any parameters.<br>\n",
    "\n",
    "### Polynomial with degree $q$:\n",
    "For simplicity we write $1 = x_{d+1} y_{d+1}$. Then\n",
    "\n",
    "$$K\\left(\\mathbf{x}, \\mathbf{y}\\right) =(\\mathbf{x}^T\\mathbf{y} + 1)^q = (\\sum_{i=1}^{d+1} x_i y_i)^q = \\sum_{k_1 + k_2 + ... + k_{d+1} = q} \\binom{q}{k_1, k_2, ..., k_{d+1}} \\prod_{t=1}^{d+1} (x_t y_t)^{k_t} = \\sum_{\\sum_{i=1}^{d+1} k_i = q} \\frac{q!}{\\prod_{i=1}^{d+1} k_i!} \\prod_{t=1}^{d+1} (x_t y_t)^{k_t}$$\n",
    "\n",
    "by Multinomial theorem. Therefore the mapping function is\n",
    "\n",
    "$$\\phi(\\mathbf{x}) = \\left[\\sqrt{\\frac{q!}{\\prod_{i=1}^{d+1} k_i!}} \\prod_{t=1}^{d+1} (x_t)^{k_t}\\right]_{\\sum_{i=1}^{d+1} k_i = q}^T,$$\n",
    "\n",
    "which maps $\\mathbb{R}^\\text{d}$ to $\\mathbb{R}^\\binom{p+(d+1)-1}{(d+1)-1} = \\mathbb{R}^\\binom{p+d}{d} = \\mathbb{R}^\\frac{(p+d)!}{p! d!}$, computed using the stars and bars method. <br>\n",
    "\n",
    "* If $p=1$, only one useless dimension is added, where $x_{d+1} = 1$. In this case the actual dimension remains. <br>\n",
    "* If $p>2$, then the dimension increases from $d$ to $\\binom{p+d}{d}$, where actural dimension is $\\binom{p+d}{d} - 1$ since we always have a $x_{d+1}^q = 1$ term.<br><br>\n",
    "\n",
    "Now we consider the parameters.\n",
    "* For each entry in $K\\left(\\mathbf{x}, \\mathbf{y}\\right)$, we have a parameter $\\frac{q!}{\\prod_{i=1}^{d+1} k_i!} = \\binom{q}{k_1, k_2, ..., k_{d+1}}$, which takes $O(q \\prod_{t=1}^{d+1} k_t)$ to compute in brute force. Considering the dimension analysis we discuss above, the greater the dimension or the greater $q$ is, the more parameters and greater time complexity we will have in the kernal function.<br>\n",
    "* However, since $q$ and $k_i$ are identical for any set of input data, increasing amount of data will not change number of parameter to be calculated (because they only need to be calculated once), although multiplying them to each term of $x$ and $y$ takes constant time.<br>\n",
    "* If we do $\\mathbf{x}^T \\mathbf{y} + 1$ first and then do the power function, then the parameter analysis is the same as the linear function, except that we need an extra power $q$ after the $\\mathbf{x}^T \\mathbf{y} + 1$.<br>\n",
    "\n",
    "### RBF with distance function $D$:\n",
    "\n",
    "Assume $D(\\mathbf{x}, \\mathbf{y}) = \\omega(\\mathbf{x}) \\omega(\\mathbf{y})$. For $K(\\mathbf{x}, \\mathbf{y} ) = e^{-\\frac{D\\left(\\mathbf{x}, \\mathbf{y} \\right)}{2s^2}} = e^{-\\frac{\\omega(\\mathbf{x}) \\omega(\\mathbf{y})}{2s^2}} = e^{-\\frac{1}{2s^2} \\omega(\\mathbf{x}) \\omega(\\mathbf{y})}$, we have the mapping function as\n",
    "\n",
    "$$\n",
    "\\phi(\\mathbf{x}) = e^{-\\frac{1}{4s^2}} \\left[1, \\frac{\\omega(\\mathbf{x})}{\\sqrt {1!}}, \\frac{\\omega(\\mathbf{x})^2}{\\sqrt {2!}}, \\frac{\\omega(\\mathbf{x})^3}{\\sqrt {3!}}, ... \\right]^T,\n",
    "$$\n",
    "\n",
    "which maps $\\mathbb{R}^\\text{d}$ to $\\mathbb{R}^\\infty$. That is, RBF essentially projects the original vector to an infinite dimensional space.<br><br>\n",
    "\n",
    "Now we consider the parameters.\n",
    "* We first clarify that although RBF maps $\\mathbb{R}^\\text{d}$ to $\\mathbb{R}^\\infty$, the dimension actually used is determined by the explicit function $K(\\mathbf{x}, \\mathbf{y})$, because we don't have to separate the mapping function. Instead, we can just compute the kernal $K$ directly.<br>\n",
    "* As calculating exp($\\mathbf{x}$) is simply mapping to an exponential function, the main cost in terms of dimension of data is at the distance function $D(\\mathbf{x}, \\mathbf{y})$, which varies with different distance functions we choose. For example, if we choose simple metrics such as Taxicab distance and Euclidean distance, the cost is relatively small. However, if we choose complex metrics for some reason, then the time cost could be huge.<br>\n",
    "* Also, if all input data share the same set of parameters, then the parameters only need to be computed once, and applyed to each set of input data with constant time. However, if parameters change with different sets of input data in a specific kernal, then the number of parameters as well as time complexity also increase linearly with the increase of amount of data."
   ]
  },
  {
   "cell_type": "markdown",
   "metadata": {
    "slideshow": {
     "slide_type": "slide"
    }
   },
   "source": [
    "# Gaussian density Bayes (30 points)\n",
    "\n",
    "$$\n",
    "p\\left(\\Theta | \\mathbf{X}\\right)\n",
    "= \n",
    "\\frac{p\\left(\\mathbf{X} | \\Theta\\right) p\\left(\\Theta\\right)}{p\\left(\\mathbf{X}\\right)}\n",
    "$$\n",
    "\n",
    "Assume both the likelihood and prior have Gaussian distributions:\n",
    "\n",
    "$$\n",
    "\\begin{align}\n",
    "p(\\mathbf{X} | \\Theta)\n",
    "&=\n",
    "\\frac{1}{(2\\pi)^{N/2}\\sigma^N} \\exp\\left(-\\frac{\\sum_{t=1}^N (\\mathbf{x}^{(t)} - \\Theta)^2}{2\\sigma^2}\\right)\n",
    "\\\\\n",
    "p(\\Theta)\n",
    "&=\n",
    "\\frac{1}{\\sqrt{2\\pi}\\sigma_0} \\exp\\left( -\\frac{(\\Theta - \\mu_0)^2}{2\\sigma_0^2} \\right)\n",
    "\\end{align}\n",
    "$$\n",
    "\n",
    "Derive $\\Theta$ from the dataset $\\mathbf{X}$ via the following methods:\n",
    "\n",
    "### ML (maximum likelihood) estimation \n",
    "$$\n",
    "\\Theta_{ML} = argmax_{\\Theta} p(\\mathbf{X} | \\Theta)\n",
    "$$\n",
    "\n",
    "### MAP estimation\n",
    "$$\n",
    "\\begin{align}\n",
    "\\Theta_{MAP} \n",
    "&= \n",
    "argmax_{\\Theta} p(\\Theta | \\mathbf{X})\n",
    "\\\\\n",
    "&=\n",
    "argmax_{\\Theta} p(\\mathbf{X} | \\Theta) p(\\Theta)\n",
    "\\end{align}\n",
    "$$\n",
    "\n",
    "### Bayes estimation\n",
    "\n",
    "$$\n",
    "\\begin{align}\n",
    "\\Theta_{Bayes} \n",
    "&= \n",
    "E(\\Theta | \\mathbf{X})\n",
    "\\\\\n",
    "&= \n",
    "\\int \\Theta p(\\Theta | \\mathbf{X}) d\\Theta\n",
    "\\end{align}\n",
    "$$"
   ]
  },
  {
   "cell_type": "markdown",
   "metadata": {},
   "source": [
    "## Answer\n",
    "\n",
    "### 1. ML (maximum likelihood) estimation \n",
    "\n",
    "To maximize $p(\\mathbf{X} | \\Theta)$, we set $\\nabla_\\Theta p(\\mathbf{X} | \\Theta) = \\nabla_\\Theta \\left(\\frac{1}{(2\\pi)^{N/2}\\sigma^N} \\exp\\left(-\\frac{\\sum_{t=1}^N (\\mathbf{x}^{(t)} - \\Theta)^2}{2\\sigma^2}\\right)\\right) = 0$. <br>\n",
    "By Chain rule we get<br>\n",
    "$$\n",
    "\\begin{align}\n",
    "\\nabla_\\Theta p(\\mathbf{X} | \\Theta) & = \\frac{1}{(2\\pi)^{N/2}\\sigma^N} \\frac{\\partial \\exp\\left(-\\frac{\\sum_{t=1}^N (\\mathbf{x}^{(t)} - \\Theta)^2}{2\\sigma^2}\\right)}{\\partial \\left(-\\frac{\\sum_{t=1}^N (\\mathbf{x}^{(t)} - \\Theta)^2}{2\\sigma^2}\\right)} \\frac{\\partial \\left(-\\frac{\\sum_{t=1}^N (\\mathbf{x}^{(t)} - \\Theta)^2}{2\\sigma^2}\\right)}{\\partial \\Theta}\\\\\n",
    "0 & = \\frac{1}{(2\\pi)^{N/2}\\sigma^N} \\exp\\left(-\\frac{\\sum_{t=1}^N (\\mathbf{x}^{(t)} - \\Theta)^2}{2\\sigma^2}\\right) \\left( - \\frac{\\sum_{t=1}^N -2(\\mathbf{x}^{(t)} - \\Theta)}{2\\sigma^2} \\right) \\\\\n",
    "\\end{align}\n",
    "$$\n",
    "Note that $p(\\mathbf{X} | \\Theta) = \\frac{1}{(2\\pi)^{N/2}\\sigma^N} \\exp\\left(-\\frac{\\sum_{t=1}^N (\\mathbf{x}^{(t)} - \\Theta)^2}{2\\sigma^2}\\right)$ is non-zero, because $e^y$ is always positive for $y \\in \\mathbb{R}$, and the constant $\\frac{1}{(2\\pi)^{N/2}\\sigma^N}$ is positive. <br>\n",
    "Then we have<br>\n",
    "$$\n",
    "\\begin{align}\n",
    "0 & = \\frac{\\sum_{t=1}^N 2(\\mathbf{x}^{(t)} - \\Theta)}{2\\sigma^2} = \\frac{\\sum_{t=1}^N \\mathbf{x}^{(t)} - \\Theta}{\\sigma^2} \\\\\n",
    "0 & = \\frac{(\\sum_{t=1}^N \\mathbf{x}^{(t)}) - N\\Theta}{\\sigma^2} \\\\\n",
    "N\\Theta & = \\sum_{t=1}^N \\mathbf{x}^{(t)} \\\\\n",
    "\\Theta & = \\frac{\\sum_{t=1}^N \\mathbf{x}^{(t)}}{N}\n",
    "\\end{align}\n",
    "$$\n",
    "Hence $$\\Theta_{ML} = argmax_{\\Theta} p(\\mathbf{X} | \\Theta) = \\frac{\\sum_{t=1}^N \\mathbf{x}^{(t)}}{N}.$$\n",
    "\n",
    "### 2. MAP estimation\n",
    "To maximize $p(\\mathbf{X} | \\Theta) p(\\Theta)$, we set $\\nabla_\\Theta (p(\\mathbf{X} | \\Theta) p(\\Theta)) = p(\\Theta)\\nabla_\\Theta p(\\mathbf{X} | \\Theta) + p(\\mathbf{X} | \\Theta)\\nabla_\\Theta p(\\Theta) = 0$. <br><br>\n",
    "We get $p(\\Theta)\\nabla_\\Theta p(\\mathbf{X} | \\Theta) = - p(\\mathbf{X} | \\Theta)\\nabla_\\Theta p(\\Theta) $ and therefore <br><br>\n",
    "$$\n",
    "\\begin{align}\n",
    "\\frac{1}{\\sqrt{2\\pi}\\sigma_0} \\exp\\left( -\\frac{(\\Theta - \\mu_0)^2}{2\\sigma_0^2} \\right) \\nabla_\\Theta \\left(\\frac{1}{(2\\pi)^{N/2}\\sigma^N} \\exp\\left(-\\frac{\\sum_{t=1}^N (\\mathbf{x}^{(t)} - \\Theta)^2}{2\\sigma^2}\\right)\\right) & \\\\\n",
    "= - \\frac{1}{(2\\pi)^{N/2}\\sigma^N} \\exp\\left(-\\frac{\\sum_{t=1}^N (\\mathbf{x}^{(t)} - \\Theta)^2}{2\\sigma^2}\\right) \\nabla_\\Theta & \\left(\\frac{1}{\\sqrt{2\\pi}\\sigma_0} \\exp\\left( -\\frac{(\\Theta - \\mu_0)^2}{2\\sigma_0^2} \\right)\\right)\n",
    "\\end{align}\n",
    "$$\n",
    "<br><br>By Removing the constants we get<br><br>\n",
    "$$\n",
    "\\begin{align}\n",
    "\\exp\\left( -\\frac{(\\Theta - \\mu_0)^2}{2\\sigma_0^2} \\right) \\nabla_\\Theta \\left(\\exp\\left(-\\frac{\\sum_{t=1}^N (\\mathbf{x}^{(t)} - \\Theta)^2}{2\\sigma^2}\\right)\\right) & = - \\exp\\left(-\\frac{\\sum_{t=1}^N (\\mathbf{x}^{(t)} - \\Theta)^2}{2\\sigma^2}\\right) \\nabla_\\Theta \\left(\\exp\\left( -\\frac{(\\Theta - \\mu_0)^2}{2\\sigma_0^2} \\right)\\right) \\\\\n",
    "\\end{align}\n",
    "$$\n",
    "<br>By Chain rule we get<br><br>\n",
    "$$\n",
    "\\begin{align}\n",
    "\\exp\\left( -\\frac{(\\Theta - \\mu_0)^2}{2\\sigma_0^2} \\right) \\frac{\\partial \\exp\\left(-\\frac{\\sum_{t=1}^N (\\mathbf{x}^{(t)} - \\Theta)^2}{2\\sigma^2}\\right)}{\\partial \\left(-\\frac{\\sum_{t=1}^N (\\mathbf{x}^{(t)} - \\Theta)^2}{2\\sigma^2}\\right)} \\frac{\\partial \\left(-\\frac{\\sum_{t=1}^N (\\mathbf{x}^{(t)} - \\Theta)^2}{2\\sigma^2}\\right)}{\\partial \\Theta} & = - \\exp\\left(-\\frac{\\sum_{t=1}^N (\\mathbf{x}^{(t)} - \\Theta)^2}{2\\sigma^2}\\right) \\frac{\\partial \\exp\\left( -\\frac{(\\Theta - \\mu_0)^2}{2\\sigma_0^2} \\right)}{\\partial \\left(-\\frac{(\\Theta - \\mu_0)^2}{2\\sigma_0^2}\\right)} \\frac{\\partial \\left(-\\frac{(\\Theta - \\mu_0)^2}{2\\sigma_0^2}\\right)}{\\partial \\Theta}\\\\\n",
    "\\exp\\left( -\\frac{(\\Theta - \\mu_0)^2}{2\\sigma_0^2} \\right) \\exp\\left(-\\frac{\\sum_{t=1}^N (\\mathbf{x}^{(t)} - \\Theta)^2}{2\\sigma^2}\\right) \\left( - \\frac{\\sum_{t=1}^N -2(\\mathbf{x}^{(t)} - \\Theta)}{2\\sigma^2} \\right) & = -\\exp\\left(-\\frac{\\sum_{t=1}^N (\\mathbf{x}^{(t)} - \\Theta)^2}{2\\sigma^2}\\right) \\exp\\left( -\\frac{(\\Theta - \\mu_0)^2}{2\\sigma_0^2} \\right) \\left(-\\frac{2(\\Theta - \\mu_0)}{2\\sigma_0^2}\\right)\n",
    "\\end{align}\n",
    "$$\n",
    "<br>Since $e^y$ is always positive for $y \\in \\mathbb{R}$, the first two terms of both sides are non-zero. Dividing them on both sides we have<br>\n",
    "$$\n",
    "\\begin{align}\n",
    "- \\frac{\\sum_{t=1}^N -2(\\mathbf{x}^{(t)} - \\Theta)}{2\\sigma^2} & = \\frac{2(\\Theta - \\mu_0)}{2\\sigma_0^2}\\\\\n",
    "\\frac{\\sum_{t=1}^N (\\mathbf{x}^{(t)} - \\Theta)}{\\sigma^2} & = \\frac{\\Theta -\\mu_0}{\\sigma_0^2}\\\\\n",
    "\\frac{(\\sum_{t=1}^N \\mathbf{x}^{(t)}) - N\\Theta}{\\sigma^2} & = \\frac{\\Theta -\\mu_0}{\\sigma_0^2}\\\\\n",
    "(\\sum_{t=1}^N \\mathbf{x}^{(t)})\\sigma_0^2 - N\\Theta\\sigma_0^2 & = \\sigma^2 \\Theta - \\sigma^2 \\mu_0 \\\\\n",
    "(\\sum_{t=1}^N \\mathbf{x}^{(t)})\\sigma_0^2 + \\sigma^2 \\mu_0 & = (N\\sigma_0^2 + \\sigma^2)\\Theta \\\\\n",
    "\\end{align}\n",
    "$$\n",
    "<br>Hence <br>\n",
    "$$\n",
    "\\begin{align}\n",
    "\\Theta_{MAP} & = argmax_{\\Theta} p(\\Theta | \\mathbf{X}) \\\\\n",
    "& = argmax_{\\Theta} p(\\mathbf{X} | \\Theta) p(\\Theta) \\\\\n",
    "& = \\frac{(\\sum_{t=1}^N \\mathbf{x}^{(t)})\\sigma_0^2 + \\sigma^2 \\mu_0}{N\\sigma_0^2 + \\sigma^2} \\\\\n",
    "\\end{align}\n",
    "$$<br>\n",
    "Furthurmore, since $\\Theta_{ML} = \\frac{\\sum_{t=1}^N \\mathbf{x}^{(t)}}{N}$, we have<br>\n",
    "$$\\Theta_{MAP} = \\frac{(\\sum_{t=1}^N \\mathbf{x}^{(t)})\\sigma_0^2 + \\sigma^2 \\mu_0}{N\\sigma_0^2 + \\sigma^2}\n",
    "= \\frac{N\\Theta_{ML}\\sigma_0^2 + \\sigma^2 \\mu_0}{N\\sigma_0^2 + \\sigma^2} = \\frac{N/\\sigma^2}{N/\\sigma^2 + 1/\\sigma_0^2} \\Theta_{ML} +\\frac{1/\\sigma_0^2}{N/\\sigma^2 + 1/\\sigma_0^2} \\mu_0$$\n",
    "\n",
    "### 3. Bayes estimation\n",
    "\n",
    "For $\\Theta_{Bayes} = E(\\Theta | \\mathbf{X}) = \\int \\Theta p(\\Theta | \\mathbf{X}) d\\Theta \\\\$, since $p(\\Theta | \\mathbf{X}) = \\frac{p(\\mathbf{X}| \\Theta) p(\\Theta)}{p(\\mathbf{X})}$ and $p(\\mathbf{X})$ is a constant for given $\\mathbf{X}$, our interest is in $p(\\mathbf{X}| \\Theta) p(\\Theta)$. We denote $\\phi(x, \\mu, \\sigma^2)$ as the normal distribution with input $x$, mean $\\mu$ and standard deviation $\\sigma$. Then  $$p(\\mathbf{X}| \\Theta) p(\\Theta) = \\phi(\\Theta, \\mu_0, \\sigma_0^2) \\prod_{i=1}^N \\phi(\\Theta, \\mathbf{x}^{(i)}, \\sigma^2).$$\n",
    "\n",
    "Notice that $$\\phi(x, \\mu_1, \\sigma_1^2) \\phi(x, \\mu_2, \\sigma_2^2) = \\phi(\\mu_1, \\mu_2, \\sigma_1^2 + \\sigma_2^2) \\phi(x, \\mu_i, \\sigma_i^2)$$ where $$\\mu_i = \\frac{1 / \\sigma_1^2}{1/ \\sigma_1^2 + 1/ \\sigma_2^2}\\mu_1 + \\frac{1 / \\sigma_2^2}{1/ \\sigma_1^2 + 1/ \\sigma_2^2}\\mu_2 \\text{ and } \\sigma_i^2 = \\frac{\\sigma_1^2 \\sigma_2^2}{\\sigma_1^2 + \\sigma_2^2}.$$<br>\n",
    "\n",
    "We will prove the formula later on. Using this formuma, we have $$\\phi(\\Theta, \\mathbf{x}^{(a)}, \\sigma^2) \\phi(\\Theta, \\mathbf{x}^{(b)}, \\sigma^2) = \\phi(\\mathbf{x}^{(a)}, \\mathbf{x}^{(b)}, 2\\sigma^2) \\phi(\\Theta, \\frac{\\mathbf{x}^{(a)}+\\mathbf{x}^{(b)}}{2}, \\frac{\\sigma^2}{2}) = C_0 \\phi(\\Theta, \\frac{\\mathbf{x}^{(a)}+\\mathbf{x}^{(b)}}{2}, \\frac{\\sigma^2}{2}),$$ where $C_0$ is some constant since all variables of $\\phi(\\mathbf{x}^{(a)}, \\mathbf{x}^{(b)}, 2\\sigma^2)$ are set. Following similar steps we get\n",
    "\n",
    "$$\\prod_{i=1}^N \\phi(\\Theta, \\mathbf{x}^{(i)}, \\sigma^2) = C_1 \\phi(\\Theta,  \\frac{\\sum_{t=1}^N \\mathbf{x}^{(t)}}{N}, \\frac{\\sigma^2}{N}),$$ where $C_1$ is some constant.<br>\n",
    "\n",
    "Hence, $$p(\\mathbf{X}| \\Theta) p(\\Theta) = C_1 \\phi(\\Theta, \\frac{\\sum_{t=1}^N \\mathbf{x}^{(t)}}{N}, \\frac{\\sigma^2}{N}) \\phi(\\Theta, \\mu_0, \\sigma_0^2) =  C_2 \\phi(\\Theta, \\mu_\\text{new}, \\sigma_\\text{new}^2),$$ where $C_2$ is some constant and by the formula, $\\mu_\\text{new} = \\frac{N/\\sigma^2}{N/\\sigma^2 + 1/\\sigma_0^2} \\Theta_{ML} +\\frac{1/\\sigma_0^2}{N/\\sigma^2 + 1/\\sigma_0^2} \\mu_0 $, where $\\Theta_{ML} = \\frac{\\sum_{t=1}^N \\mathbf{x}^{(t)}}{N}.$ <br>\n",
    "\n",
    "Notice that for a given normal distribution, multiplying the probability density function by a constant will not change its mean value. Therefore the expectation of $p(\\Theta | \\mathbf{X})$ is exactly the expectation of the non-constant normal distribution part. Hence,\n",
    "$$\n",
    "E(\\Theta | \\mathbf{X}) = \\mu_\\text{new} = \\frac{N/\\sigma^2}{N/\\sigma^2 + 1/\\sigma_0^2} \\Theta_{ML} +\\frac{1/\\sigma_0^2}{N/\\sigma^2 + 1/\\sigma_0^2} \\mu_0 = \\Theta_{MAP},\n",
    "$$\n",
    "where $\\Theta_{ML} = \\frac{\\sum_{t=1}^N \\mathbf{x}^{(t)}}{N}.$ <br>\n",
    "\n",
    "Finally we want to prove the formula $\\phi(x, \\mu_1, \\sigma_1^2) \\phi(x, \\mu_2, \\sigma_2^2) = \\phi(\\mu_1, \\mu_2, \\sigma_1^2 + \\sigma_2^2) \\phi(x, \\mu_i, \\sigma_i^2)$:<br><br>\n",
    "$$\n",
    "\\begin{align}\n",
    "\\phi(x, \\mu_1, \\sigma_1^2) \\phi(x, \\mu_2, \\sigma_2^2) & = \\frac{1}{\\sqrt{2\\pi}\\sigma_1} \\exp\\left( -\\frac{(x - \\mu_1)^2}{2\\sigma_1^2} \\right) \\frac{1}{\\sqrt{2\\pi}\\sigma_2} \\exp\\left( -\\frac{(x - \\mu_2)^2}{2\\sigma_2^2} \\right) \\\\\n",
    "& =  \\frac{1}{2\\pi \\sigma_1 \\sigma_2} \\exp\\left( -\\frac{(x - \\mu_1)^2}{2\\sigma_1^2} - \\frac{(x - \\mu_2)^2}{2\\sigma_2^2}\\right) \\\\\n",
    "& = \\frac{1}{2\\pi \\sigma_1 \\sigma_2} \\exp\\left( -\\frac{(\\sigma_1^2+\\sigma_2^2) x^2 -2(\\mu_1 \\sigma_2^2 +\\mu_2 \\sigma_1^2)x +(\\mu_1^2 \\sigma_2^2+\\mu_2^2 \\sigma_1^2)}{2\\sigma_1^2 \\sigma_2^2}    \\right)\\\\\n",
    "& = \\frac{1}{2\\pi \\sigma_1 \\sigma_2} \\exp\\left( -\\frac{x^2 -2\\frac{\\mu_1 \\sigma_2^2 +\\mu_2 \\sigma_1^2}{\\sigma_1^2+\\sigma_2^2}x + \\frac{\\mu_1^2 \\sigma_2^2+\\mu_2^2 \\sigma_1^2}{\\sigma_1^2+\\sigma_2^2}}{2\\frac{\\sigma_1^2 \\sigma_2^2}{\\sigma_1^2+\\sigma_2^2}}    \\right) \\\\\n",
    "& = \\frac{1}{2\\pi \\sigma_1 \\sigma_2} \\exp\\left( -\\frac{x^2 -2\\frac{\\mu_1 \\sigma_2^2 +\\mu_2 \\sigma_1^2}{\\sigma_1^2+\\sigma_2^2}x + \\frac{\\mu_1^2 \\sigma_2^4+\\mu_2^2 \\sigma_1^4 + 2\\mu_1 \\sigma_2^2 \\mu_2 \\sigma_1^2}{(\\sigma_1^2+\\sigma_2^2)^2}}{2\\frac{\\sigma_1^2 \\sigma_2^2}{\\sigma_1^2+\\sigma_2^2}} \\right) \\\\\n",
    "& \\times \\exp\\left(\\frac{ - (\\sigma_1^2+\\sigma_2^2)(\\mu_1^2 \\sigma_2^2+\\mu_2^2 \\sigma_1^2) +  (\\mu_1^2 \\sigma_2^4+\\mu_2^2 \\sigma_1^4 + 2\\mu_1 \\sigma_2^2 \\mu_2 \\sigma_1^2) }{2 \\sigma_1^2 \\sigma_2^2 (\\sigma_1^2+\\sigma_2^2)}\\right) \\\\\n",
    "& = \\frac{1}{2\\pi \\sqrt{\\frac{\\sigma_1^2 \\sigma_2^2}{\\sigma_1^2+\\sigma_2^2}} \\sqrt{\\sigma_1^2+\\sigma_2^2}} \\exp\\left( -\\frac{(x -\\frac{\\mu_1 \\sigma_2^2 +\\mu_2 \\sigma_1^2}{\\sigma_1^2+\\sigma_2^2})^2}{2\\frac{\\sigma_1^2 \\sigma_2^2}{\\sigma_1^2+\\sigma_2^2}} \\right) \\exp\\left( -\\frac{(\\mu_1 - \\mu_2)^2}{2 \\sigma_1^2 + \\sigma_2^2} \\right)\\\\\n",
    "& = \\frac{1}{\\sqrt{2\\pi} \\sqrt{\\frac{\\sigma_1^2 \\sigma_2^2}{\\sigma_1^2+\\sigma_2^2}}} \\exp\\left( -\\frac{(x -\\frac{\\mu_1 \\sigma_2^2 +\\mu_2 \\sigma_1^2}{\\sigma_1^2+\\sigma_2^2})^2}{2\\frac{\\sigma_1^2 \\sigma_2^2}{\\sigma_1^2+\\sigma_2^2}} \\right) \\frac{1}{\\sqrt{2\\pi} \\sqrt{\\sigma_1^2+\\sigma_2^2}} \\exp\\left( -\\frac{(\\mu_1 - \\mu_2)^2}{2 \\sigma_1^2 + \\sigma_2^2} \\right)\\\\\n",
    "& = \\phi(x, \\mu_i, \\sigma_i^2) \\phi(\\mu_1, \\mu_2, \\sigma_1^2 + \\sigma_2^2)\\\\\n",
    "\\end{align}\n",
    "$$\n",
    "where $$\\mu_i = \\frac{1 / \\sigma_1^2}{1/ \\sigma_1^2 + 1/ \\sigma_2^2}\\mu_1 + \\frac{1 / \\sigma_2^2}{1/ \\sigma_1^2 + 1/ \\sigma_2^2}\\mu_2 \\text{ and } \\sigma_i^2 = \\frac{\\sigma_1^2 \\sigma_2^2}{\\sigma_1^2 + \\sigma_2^2}.$$<br>\n",
    "Hence we complete the proof and we validate that\n",
    "$$\\Theta_{Bayes} = \\mu_\\text{new} = \\frac{N/\\sigma^2}{N/\\sigma^2 + 1/\\sigma_0^2} \\Theta_{ML} +\\frac{1/\\sigma_0^2}{N/\\sigma^2 + 1/\\sigma_0^2} \\mu_0.$$\n",
    "\n",
    "\n"
   ]
  },
  {
   "cell_type": "markdown",
   "metadata": {
    "slideshow": {
     "slide_type": "slide"
    }
   },
   "source": [
    "# Hand-written digit classification (40 points)\n",
    "\n",
    "In the textbook sample code we applied different scikit-learn classifers for the Iris data set.\n",
    "\n",
    "In this exercise, we will apply the same set of classifiers over a different data set: hand-written digits.\n",
    "Please write down the code for different classifiers, choose their hyper-parameters, and compare their performance via the accuracy score as in the Iris dataset.\n",
    "Which classifier(s) perform(s) the best and worst, and why?\n",
    "\n",
    "The classifiers include:\n",
    "* perceptron\n",
    "* logistic regression\n",
    "* SVM\n",
    "* decision tree\n",
    "* random forest\n",
    "* KNN\n",
    "* naive Bayes\n",
    "\n",
    "The dataset is available as part of scikit learn, as follows."
   ]
  },
  {
   "cell_type": "code",
   "execution_count": 1,
   "metadata": {
    "collapsed": false,
    "slideshow": {
     "slide_type": "skip"
    }
   },
   "outputs": [
    {
     "name": "stdout",
     "output_type": "stream",
     "text": [
      "last updated: 2016-10-17 \n",
      "\n",
      "CPython 3.5.2\n",
      "IPython 4.2.0\n",
      "\n",
      "numpy 1.11.1\n",
      "pandas 0.18.1\n",
      "matplotlib 1.5.1\n",
      "scipy 0.17.1\n",
      "sklearn 0.18\n"
     ]
    }
   ],
   "source": [
    "%load_ext watermark\n",
    "%watermark -a '' -u -d -v -p numpy,pandas,matplotlib,scipy,sklearn\n",
    "%matplotlib inline"
   ]
  },
  {
   "cell_type": "code",
   "execution_count": 2,
   "metadata": {
    "collapsed": true,
    "slideshow": {
     "slide_type": "skip"
    }
   },
   "outputs": [],
   "source": [
    "# Added version check for recent scikit-learn 0.18 checks\n",
    "from distutils.version import LooseVersion as Version\n",
    "from sklearn import __version__ as sklearn_version"
   ]
  },
  {
   "cell_type": "markdown",
   "metadata": {
    "slideshow": {
     "slide_type": "fragment"
    }
   },
   "source": [
    "## Load data"
   ]
  },
  {
   "cell_type": "code",
   "execution_count": 3,
   "metadata": {
    "collapsed": false,
    "slideshow": {
     "slide_type": "fragment"
    }
   },
   "outputs": [
    {
     "name": "stdout",
     "output_type": "stream",
     "text": [
      "(1797, 64)\n",
      "(1797,)\n"
     ]
    }
   ],
   "source": [
    "from sklearn.datasets import load_digits\n",
    "digits = load_digits()\n",
    "\n",
    "X = digits.data # training data\n",
    "y = digits.target # training label\n",
    "\n",
    "print(X.shape)\n",
    "print(y.shape)"
   ]
  },
  {
   "cell_type": "markdown",
   "metadata": {
    "slideshow": {
     "slide_type": "fragment"
    }
   },
   "source": [
    "## Visualize data"
   ]
  },
  {
   "cell_type": "code",
   "execution_count": 4,
   "metadata": {
    "collapsed": false,
    "slideshow": {
     "slide_type": "fragment"
    }
   },
   "outputs": [
    {
     "data": {
      "image/png": "[encoded data removed]",
      "text/plain": [
       "<matplotlib.figure.Figure at 0x1140eb668>"
      ]
     },
     "metadata": {},
     "output_type": "display_data"
    }
   ],
   "source": [
    "import matplotlib.pyplot as plt\n",
    "import pylab as pl\n",
    "\n",
    "num_rows = 4\n",
    "num_cols = 5\n",
    "\n",
    "fig, ax = plt.subplots(nrows=num_rows, ncols=num_cols, sharex=True, sharey=True)\n",
    "ax = ax.flatten()\n",
    "for index in range(num_rows*num_cols):\n",
    "    img = digits.images[index]\n",
    "    label = digits.target[index]\n",
    "    ax[index].imshow(img, cmap='Greys', interpolation='nearest')\n",
    "    ax[index].set_title('digit ' + str(label))\n",
    "\n",
    "ax[0].set_xticks([])\n",
    "ax[0].set_yticks([])\n",
    "plt.tight_layout()\n",
    "plt.show()"
   ]
  },
  {
   "cell_type": "markdown",
   "metadata": {
    "slideshow": {
     "slide_type": "fragment"
    }
   },
   "source": [
    "## Date Preprocessing\n",
    "Hint: How you divide training and test data set? And apply other techinques we have learned if needed.\n",
    "You could take a look at the Iris data set case in the textbook."
   ]
  },
  {
   "cell_type": "code",
   "execution_count": 5,
   "metadata": {
    "collapsed": false,
    "slideshow": {
     "slide_type": "fragment"
    }
   },
   "outputs": [
    {
     "name": "stdout",
     "output_type": "stream",
     "text": [
      "scikit-learn version: 0.18\n",
      "1. Complete removing the mean and scaling to unit variance.\n",
      "2. Complete splitting with 1257(70%) training data and 540(30%) test data.\n"
     ]
    }
   ],
   "source": [
    "from sklearn.preprocessing import StandardScaler\n",
    "if Version(sklearn_version) < '0.18':\n",
    "    from sklearn.cross_validation import train_test_split\n",
    "else:\n",
    "    from sklearn.model_selection import train_test_split\n",
    "print ('scikit-learn version: ' + str(Version(sklearn_version)))\n",
    "\n",
    "# 1. Standardize features by removing the mean and scaling to unit variance\n",
    "X_std = StandardScaler().fit_transform(X) # fit_transform(X) will fit to data, then transform it.\n",
    "print ('1. Complete removing the mean and scaling to unit variance.')\n",
    "\n",
    "# 2. splitting data into 70% training and 30% test data: \n",
    "split_ratio = 0.3\n",
    "X_train, X_test, y_train, y_test = train_test_split(X_std, y, test_size=split_ratio, random_state=0)\n",
    "print('2. Complete splitting with ' + str(y_train.shape[0]) + \\\n",
    "      '(' + str(int((1-split_ratio)*100)) +'%) training data and ' + \\\n",
    "      str(y_test.shape[0]) + '(' + str(int(split_ratio*100)) +'%) test data.')\n"
   ]
  },
  {
   "cell_type": "markdown",
   "metadata": {
    "slideshow": {
     "slide_type": "fragment"
    }
   },
   "source": [
    "## Classifier #1 Perceptron"
   ]
  },
  {
   "cell_type": "code",
   "execution_count": 6,
   "metadata": {
    "collapsed": false,
    "slideshow": {
     "slide_type": "fragment"
    }
   },
   "outputs": [
    {
     "name": "stdout",
     "output_type": "stream",
     "text": [
      "Misclassified samples: 39 out of 540\n",
      "Accuracy: 0.928\n"
     ]
    }
   ],
   "source": [
    "from sklearn.linear_model import Perceptron\n",
    "from sklearn.metrics import accuracy_score\n",
    "\n",
    "# Training\n",
    "ppn = Perceptron(n_iter=800, eta0=0.1, random_state=0)\n",
    "ppn.fit(X_train, y_train)\n",
    "# Testing\n",
    "y_pred = ppn.predict(X_test)\n",
    "# Results\n",
    "print('Misclassified samples: %d out of %d' % ((y_test != y_pred).sum(), y_test.shape[0]))\n",
    "print('Accuracy: %.3f' % accuracy_score(y_test, y_pred))"
   ]
  },
  {
   "cell_type": "markdown",
   "metadata": {
    "slideshow": {
     "slide_type": "fragment"
    }
   },
   "source": [
    "## Classifier #2 Logistic Regression"
   ]
  },
  {
   "cell_type": "code",
   "execution_count": 7,
   "metadata": {
    "collapsed": false,
    "slideshow": {
     "slide_type": "fragment"
    }
   },
   "outputs": [
    {
     "name": "stdout",
     "output_type": "stream",
     "text": [
      "Misclassified samples: 25 out of 540\n",
      "Accuracy: 0.954\n"
     ]
    }
   ],
   "source": [
    "from sklearn.linear_model import LogisticRegression\n",
    "\n",
    "# Training\n",
    "lr = LogisticRegression(C=1.0, random_state=0) # we observe that changing C from 0.0001 to 1000 has ignorable effect\n",
    "lr.fit(X_train, y_train)\n",
    "# Testing\n",
    "y_pred = lr.predict(X_test)\n",
    "# Results\n",
    "print('Misclassified samples: %d out of %d' % ((y_test != y_pred).sum(), y_test.shape[0]))\n",
    "print('Accuracy: %.3f' % accuracy_score(y_test, y_pred))"
   ]
  },
  {
   "cell_type": "markdown",
   "metadata": {
    "slideshow": {
     "slide_type": "fragment"
    }
   },
   "source": [
    "## Classifier #3 SVM"
   ]
  },
  {
   "cell_type": "code",
   "execution_count": 8,
   "metadata": {
    "collapsed": false,
    "slideshow": {
     "slide_type": "fragment"
    }
   },
   "outputs": [
    {
     "name": "stdout",
     "output_type": "stream",
     "text": [
      "1. Using linear kernel:\n",
      "   Misclassified samples: 14 out of 540\n",
      "   Accuracy: 0.974\n",
      "2. Using rbf kernel:\n",
      "   Misclassified samples: 8 out of 540\n",
      "   Accuracy: 0.985\n"
     ]
    }
   ],
   "source": [
    "from sklearn.svm import SVC\n",
    "\n",
    "# 1. Using linear kernel\n",
    "\n",
    "# Training\n",
    "svm = SVC(kernel='linear', C=1.0, random_state=0)\n",
    "svm.fit(X_train, y_train)\n",
    "# Testing\n",
    "y_pred = svm.predict(X_test)\n",
    "# Results\n",
    "print('1. Using linear kernel:')\n",
    "print('   Misclassified samples: %d out of %d' % ((y_test != y_pred).sum(), y_test.shape[0]))\n",
    "print('   Accuracy: %.3f' % accuracy_score(y_test, y_pred))\n",
    "\n",
    "\n",
    "# 2. Using rbf kernel\n",
    "\n",
    "# Training\n",
    "svm = SVC(kernel='rbf', C=1.0, random_state=0)\n",
    "svm.fit(X_train, y_train)\n",
    "# Testing\n",
    "y_pred = svm.predict(X_test)\n",
    "# Results\n",
    "print('2. Using rbf kernel:')\n",
    "print('   Misclassified samples: %d out of %d' % ((y_test != y_pred).sum(), y_test.shape[0]))\n",
    "print('   Accuracy: %.3f' % accuracy_score(y_test, y_pred))"
   ]
  },
  {
   "cell_type": "markdown",
   "metadata": {
    "slideshow": {
     "slide_type": "fragment"
    }
   },
   "source": [
    "## Classifier #4 Decision Tree"
   ]
  },
  {
   "cell_type": "code",
   "execution_count": 9,
   "metadata": {
    "collapsed": false,
    "slideshow": {
     "slide_type": "fragment"
    }
   },
   "outputs": [
    {
     "name": "stdout",
     "output_type": "stream",
     "text": [
      "1. Using entropy criterion:\n",
      "   Misclassified samples: 71 out of 540\n",
      "   Accuracy: 0.869\n",
      "2. Using Gini criterion:\n",
      "   Misclassified samples: 77 out of 540\n",
      "   Accuracy: 0.857\n"
     ]
    }
   ],
   "source": [
    "from sklearn.tree import DecisionTreeClassifier\n",
    "\n",
    "# 1. Using entropy criterion\n",
    "\n",
    "# Training\n",
    "tree = DecisionTreeClassifier(criterion='entropy', random_state=0)\n",
    "tree.fit(X_train, y_train)\n",
    "# Testing\n",
    "y_pred = tree.predict(X_test)\n",
    "# Results\n",
    "print('1. Using entropy criterion:')\n",
    "print('   Misclassified samples: %d out of %d' % ((y_test != y_pred).sum(), y_test.shape[0]))\n",
    "print('   Accuracy: %.3f' % accuracy_score(y_test, y_pred))\n",
    "\n",
    "# 2. Using Gini criterion\n",
    "\n",
    "# Training\n",
    "tree = DecisionTreeClassifier(criterion='gini', random_state=0)\n",
    "tree.fit(X_train, y_train)\n",
    "# Testing\n",
    "y_pred = tree.predict(X_test)\n",
    "# Results\n",
    "print('2. Using Gini criterion:')\n",
    "print('   Misclassified samples: %d out of %d' % ((y_test != y_pred).sum(), y_test.shape[0]))\n",
    "print('   Accuracy: %.3f' % accuracy_score(y_test, y_pred))"
   ]
  },
  {
   "cell_type": "markdown",
   "metadata": {
    "slideshow": {
     "slide_type": "fragment"
    }
   },
   "source": [
    "## Classifer #5 Random Forest"
   ]
  },
  {
   "cell_type": "code",
   "execution_count": 10,
   "metadata": {
    "collapsed": false
   },
   "outputs": [
    {
     "name": "stdout",
     "output_type": "stream",
     "text": [
      "1. Using entropy criterion:\n",
      "   Misclassified samples: 32 out of 540\n",
      "   Accuracy: 0.941\n",
      "2. Using Gini criterion:\n",
      "   Misclassified samples: 27 out of 540\n",
      "   Accuracy: 0.950\n"
     ]
    }
   ],
   "source": [
    "from sklearn.ensemble import RandomForestClassifier\n",
    "\n",
    "# 1. Using entropy criterion\n",
    "\n",
    "# Training\n",
    "forest = RandomForestClassifier(criterion='entropy', n_estimators=10, random_state=1, n_jobs=2)\n",
    "forest.fit(X_train, y_train)\n",
    "# Testing\n",
    "y_pred = forest.predict(X_test)\n",
    "# Results\n",
    "print('1. Using entropy criterion:')\n",
    "print('   Misclassified samples: %d out of %d' % ((y_test != y_pred).sum(), y_test.shape[0]))\n",
    "print('   Accuracy: %.3f' % accuracy_score(y_test, y_pred))\n",
    "\n",
    "# 2. Using Gini criterion\n",
    "\n",
    "# Training\n",
    "forest = RandomForestClassifier(criterion='gini', n_estimators=10, random_state=1, n_jobs=2)\n",
    "forest.fit(X_train, y_train)\n",
    "# Testing\n",
    "y_pred = forest.predict(X_test)\n",
    "# Results\n",
    "print('2. Using Gini criterion:')\n",
    "print('   Misclassified samples: %d out of %d' % ((y_test != y_pred).sum(), y_test.shape[0]))\n",
    "print('   Accuracy: %.3f' % accuracy_score(y_test, y_pred))"
   ]
  },
  {
   "cell_type": "markdown",
   "metadata": {
    "slideshow": {
     "slide_type": "fragment"
    }
   },
   "source": [
    "## Classifier #6 KNN"
   ]
  },
  {
   "cell_type": "code",
   "execution_count": 11,
   "metadata": {
    "collapsed": false
   },
   "outputs": [
    {
     "name": "stdout",
     "output_type": "stream",
     "text": [
      "Misclassified samples: 15 out of 540\n",
      "Accuracy: 0.972\n"
     ]
    }
   ],
   "source": [
    "from sklearn.neighbors import KNeighborsClassifier\n",
    "\n",
    "# Training\n",
    "knn = KNeighborsClassifier(n_neighbors=5, p=2, metric='minkowski')\n",
    "knn.fit(X_train, y_train)\n",
    "# Testing\n",
    "y_pred = knn.predict(X_test)\n",
    "# Results\n",
    "print('Misclassified samples: %d out of %d' % ((y_test != y_pred).sum(), y_test.shape[0]))\n",
    "print('Accuracy: %.3f' % accuracy_score(y_test, y_pred))"
   ]
  },
  {
   "cell_type": "markdown",
   "metadata": {
    "slideshow": {
     "slide_type": "fragment"
    }
   },
   "source": [
    "## Classifier #7 Naive Bayes"
   ]
  },
  {
   "cell_type": "code",
   "execution_count": 12,
   "metadata": {
    "collapsed": false
   },
   "outputs": [
    {
     "name": "stdout",
     "output_type": "stream",
     "text": [
      "Misclassified samples: 123 out of 540\n",
      "Accuracy: 0.772\n"
     ]
    }
   ],
   "source": [
    "from sklearn.naive_bayes import GaussianNB\n",
    "\n",
    "# Training\n",
    "gnb = GaussianNB()\n",
    "gnb.fit(X_train, y_train)\n",
    "# Testing\n",
    "y_pred = gnb.predict(X_test)\n",
    "# Results\n",
    "print('Misclassified samples: %d out of %d' % ((y_test != y_pred).sum(), y_test.shape[0]))\n",
    "print('Accuracy: %.3f' % accuracy_score(y_test, y_pred))"
   ]
  },
  {
   "cell_type": "markdown",
   "metadata": {},
   "source": [
    "Hence in this example, the accuracy of the predictions is ranked as (in descending order):\n",
    "* SVM (rbf kernel) - 0.985 <br>\n",
    "* SVM (linear kernel) - 0.974 <br>\n",
    "* KNN - 0.972 <br>\n",
    "* Logistic Regression - 0.954 <br>\n",
    "* Random forest (Gini criterion) - 0.950 <br>\n",
    "* Random forest (entropy criterion) - 0.941 <br>\n",
    "* Perceptron - 0.928 <br>\n",
    "* Decision Tree (entropy criterion) - 0.869 <br>\n",
    "* Decision Tree (Gini criterion) - 0.857 <br>\n",
    "* Naive Bayes - 0.772 <br>\n",
    "\n",
    "The best is SVM (using rbf kernel). Because SVM maximize margins to nearest samples (called support vectors), which is considered as an effective way of classifying spacially separated samples. Also, SVM is more robust against outliers and offers slack variables as a solution to not linearly-separable samples. Moreover, using rbf kernel, the dimension is mapped to infinity and therefore samples are highly likely to be separated by some hyperplanes.\n",
    "\n",
    "The worst is Naive Bayes. Because it assumes that all data are independent, which leads to high bias and low variance. When the input samples are not generally independent, the assumption fails and therefore the accuracy is low. Also, Naive Bayes cannot deal with outliers or noise, therefore unideal samples may not be correctly classified."
   ]
  }
 ],
 "metadata": {
  "anaconda-cloud": {},
  "celltoolbar": "Slideshow",
  "kernelspec": {
   "display_name": "Python [Root]",
   "language": "python",
   "name": "Python [Root]"
  },
  "language_info": {
   "codemirror_mode": {
    "name": "ipython",
    "version": 3
   },
   "file_extension": ".py",
   "mimetype": "text/x-python",
   "name": "python",
   "nbconvert_exporter": "python",
   "pygments_lexer": "ipython3",
   "version": "3.5.2"
  }
 },
 "nbformat": 4,
 "nbformat_minor": 0
}
