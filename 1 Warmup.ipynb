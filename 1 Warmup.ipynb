{
 "cells": [
  {
   "cell_type": "markdown",
   "metadata": {
    "slideshow": {
     "slide_type": "slide"
    }
   },
   "source": [
    "# Part I: Sorting\n",
    "In `def sort(values)`, a quicksort for numpy array is implemented, with $O(Nlog(N))$ time complexity in general, and $O(N^2)$ in worst cases.\n",
    "\n",
    "#### Algorithm\n",
    "This version of quicksort (abbraviated as qsort in following passage) chose the first element as the `pivot`. In each turn, if the incoming array has length greater than one, then qsort do the following:\n",
    "1. __select__ elements smaller than the `pivot` as `left`, select elements greater than the `pivot` as `right`\n",
    "2. __rearange__ the array to the form of `left` + `pivot` + `right`\n",
    "3. do __qsort__ on `left` and `right`\n",
    "\n",
    "#### Complexity\n",
    "First we analyse one trun:\n",
    "1. select part: selecting `left` and `right` compares the whole array with `pivot` one time each, therefore time complexity is $O(2length) = O(length)$\n",
    "2. rearange part: we simply copy `left`, `pivot` and `right` to the original array, with time complexity $O(length)$\n",
    "\n",
    "In general, if the incoming array is almost random, we will approximately have half `left` and half `right` on each side of the pivot. Thus $T(n) = 2T(n/2)+cn$ and therefore by master theroem $T(N) = O(Nlog(N))$.\n",
    "\n",
    "However, in worst cases, one side of each turn has $(length-1)$ elements while the other side has no elements. Hence we have $T(n) = T(n-1)+cn$ and therefore by master theroem $T(N) = O(N^2)$."
   ]
  },
  {
   "cell_type": "markdown",
   "metadata": {
    "slideshow": {
     "slide_type": "subslide"
    }
   },
   "source": [
    "## Code (20 points)"
   ]
  },
  {
   "cell_type": "code",
   "execution_count": 1,
   "metadata": {
    "collapsed": true,
    "slideshow": {
     "slide_type": "fragment"
    }
   },
   "outputs": [],
   "source": [
    "# the function\n",
    "def sort(values):\n",
    "    if len(values) > 1:\n",
    "        #1. select pivot, then left and right\n",
    "        pivot = values[0]\n",
    "        left = [x for x in values[1:] if x < pivot]\n",
    "        right = [x for x in values[1:] if x >= pivot]\n",
    "        \n",
    "        #2. rearange the array to [left+pivot+right]\n",
    "        values[len(left)] = pivot\n",
    "        for i in range(0, len(left)):\n",
    "            values[i] = left[i]\n",
    "        for i in range(0, len(right)):\n",
    "            values[i+1+len(left)] = right[i]\n",
    "        \n",
    "        #3. qsort left and right\n",
    "        sort(values[0:len(left)])\n",
    "        sort(values[len(left)+1:])\n",
    "    return values"
   ]
  },
  {
   "cell_type": "code",
   "execution_count": 2,
   "metadata": {
    "collapsed": false,
    "slideshow": {
     "slide_type": "fragment"
    }
   },
   "outputs": [
    {
     "name": "stdout",
     "output_type": "stream",
     "text": [
      "Correct? True\n"
     ]
    }
   ],
   "source": [
    "# main\n",
    "import numpy as np\n",
    "\n",
    "# different random seed\n",
    "np.random.seed()\n",
    "\n",
    "# generate numbers\n",
    "N = 10\n",
    "# the TA will vary the input array size and content during testing\n",
    "values = np.random.random([N])\n",
    "\n",
    "sort(values)\n",
    "\n",
    "correct = True\n",
    "for index in range(1, len(values)):\n",
    "    if(values[index-1] > values[index]):\n",
    "        correct = False\n",
    "        \n",
    "print('Correct? ' + str(correct))"
   ]
  },
  {
   "cell_type": "markdown",
   "metadata": {
    "slideshow": {
     "slide_type": "slide"
    }
   },
   "source": [
    "# Part II: Line fitting\n",
    "\n",
    "The loss function is $L\\left(\\mathbf{X}, \\mathbf{T}, \\mathbf{Y}\\right) = \\sum_i \\left( T^{(i)} - Y^{(i)}\\right)^2 = \\sum_i \\left( T^{(i)} - w_1 X^{(i)} - w_0 \\right)^2$."
   ]
  },
  {
   "cell_type": "markdown",
   "metadata": {
    "slideshow": {
     "slide_type": "fragment"
    }
   },
   "source": [
    "## Math (30 points)\n",
    "\n",
    "Write down explicit formulas for $w_0$ and $w_1$ in terms of $\\mathbf{X}$ and $\\mathbf{T}$.\n",
    "\n",
    "### Vectored Version (The Formal Solution)\n",
    "We let $\\mathbf{H} = [\\mathbf{1} | \\mathbf{X}]$, therefore $\\mathbf{H} \\Theta =  \\mathbf{Y}$.\n",
    "Set $\\nabla_\\Theta L(\\Theta) = 0 $ we get \n",
    "\n",
    "$$\n",
    "\\begin{align}\n",
    "\\nabla_\\Theta L(\\Theta) & = \\nabla_\\Theta \\frac{1}{2} (\\mathbf{H} \\Theta - \\mathbf{T})^T (\\mathbf{H} \\Theta - \\mathbf{T}) \\\\\n",
    "0 & = \\frac{1}{2} \\nabla_\\Theta({\\Theta}^T {\\mathbf{H}}^T \\mathbf{H} \\Theta - {\\Theta}^T {\\mathbf{H}}^T \\mathbf{T} - \\mathbf{T}^T \\mathbf{H} \\Theta + \\mathbf{T}^T \\mathbf{T}) \\\\\n",
    "0 & = \\frac{1}{2} ({\\mathbf{H}}^T \\mathbf{H} \\Theta + {\\mathbf{H}}^T \\mathbf{H} \\Theta - {\\mathbf{H}}^T \\mathbf{T} - {\\mathbf{H}}^T \\mathbf{T}) \\\\\n",
    "0 & = {\\mathbf{H}}^T \\mathbf{H} \\Theta - {\\mathbf{H}}^T \\mathbf{T} \\\\\n",
    "{\\mathbf{H}}^T \\mathbf{H} \\Theta & = {\\mathbf{H}}^T \\mathbf{T} \\\\\n",
    "\\Theta & = ({\\mathbf{H}}^T \\mathbf{\\mathbf{H}})^{-1} {\\mathbf{\\mathbf{H}}}^T {\\mathbf{T}}\n",
    "\\end{align}\n",
    "$$\n",
    "\n",
    "Hence $\\Theta = \\{w_0, w_1 \\}^T = ({\\mathbf{H}}^T \\mathbf{\\mathbf{H}})^{-1} {\\mathbf{\\mathbf{H}}}^T {\\mathbf{T}}$ with $\\mathbf{H} = [\\mathbf{1} | \\mathbf{X}]$.\n",
    "\n",
    "### Unvectored Version (The Solution only for Reference)\n",
    "As the loss is convex, we can simply apply first-order necessary condition\n",
    "\n",
    "$$\n",
    "\\begin{equation}\n",
    "\\frac{\\partial L}{\\partial w_0} = - 2\\sum_i \\left( T^{(i)} - w_1 X^{(i)} - w_0 \\right) = 0 \\\\\n",
    "\\frac{\\partial L}{\\partial w_1} = - 2\\sum_i \\left(X^{(i)}( T^{(i)} - w_1 X^{(i)} - w_0) \\right) = 0\n",
    "\\end{equation}\n",
    "$$\n",
    "\n",
    "We extract $w_0$ from the first equation, to substitute $w_0$ in the second equation\n",
    "\n",
    "$$\n",
    "\\begin{equation}\n",
    "w_0 = \\frac{\\sum_i \\left( T^{(i)} - w_1 X^{(i)}\\right)}{n} \\\\\n",
    "\\sum_i \\left(X^{(i)}( T^{(i)} - w_1 X^{(i)} - \\frac{\\sum_j \\left( T^{(j)} - w_1 X^{(j)}\\right)}{n}) \\right) = 0\n",
    "\\end{equation}\n",
    "$$\n",
    "\n",
    "Now that the second equation is only composed of $w_1, \\mathbf{X}$ and $\\mathbf{T}$, we can solve out $w_1$\n",
    "\n",
    "$$\n",
    "\\begin{equation}\n",
    "\\sum_i \\left(X^{(i)}T^{(i)} - w_1 X^{(i)}X^{(i)} - X^{(i)}\\frac{\\sum_j T^{(j)}}{n} + w_1 X^{(i)}\\frac{\\sum_j X^{(j)}}{n} \\right) = 0 \\\\\n",
    "\\sum_i X^{(i)} T^{(i)} - \\frac{\\sum_i X^{(i)} \\sum_j T^{(j)}}{n} = w_1(\\sum_i X^{(i)} X^{(i)} - \\frac{\\sum_i X^{(i)} \\sum_j X^{(j)}}{n})\\\\\\\n",
    "w_1 =  \\frac{n \\sum_i X^{(i)} T^{(i)} - \\sum_i X^{(i)} \\sum_j T^{(j)}}{n \\sum_i X^{(i)} X^{(i)} - \\sum_i X^{(i)} \\sum_j X^{(j)}} = \\frac{n \\sum_i X^{(i)} T^{(i)} - \\sum_i X^{(i)} \\sum_j T^{(j)}}{n \\sum_i (X^{(i)})^2 - (\\sum_i X^{(i)})^2}\n",
    "\\end{equation}\n",
    "$$\n",
    "\n",
    "Now simply substitute $w_1$ in the expression of $w_0$\n",
    "\n",
    "$$\n",
    "\\begin{equation}\n",
    "w_0 = \\frac{\\sum_i \\left( T^{(i)} - w_1 X^{(i)}\\right)}{n} = \\frac{\\sum_i X^{(i)} X^{(i)} \\sum_j T^{(j)} - \\sum_i X^{(i)} T^{(i)} \\sum_j X^{(j)}}{n \\sum_i (X^{(i)})^2 - (\\sum_i X^{(i)})^2}\n",
    "\\end{equation}\n",
    "$$\n",
    "\n",
    "To conclude\n",
    "$$ \\left\\{\n",
    "\\begin{aligned}\n",
    "w_1 & = \\frac{n \\sum_i X^{(i)} T^{(i)} - \\sum_i X^{(i)} \\sum_j T^{(j)}}{n \\sum_i (X^{(i)})^2 - (\\sum_i X^{(i)})^2}\\\\\n",
    "w_0 & = \\frac{\\sum_i X^{(i)} X^{(i)} \\sum_j T^{(j)} - \\sum_i X^{(i)} T^{(i)} \\sum_j X^{(j)}}{n \\sum_i (X^{(i)})^2 - (\\sum_i X^{(i)})^2} \\\\\n",
    "\\end{aligned}\n",
    "\\right.\n",
    "$$"
   ]
  },
  {
   "cell_type": "markdown",
   "metadata": {
    "slideshow": {
     "slide_type": "fragment"
    }
   },
   "source": [
    "## Code (50 points)"
   ]
  },
  {
   "cell_type": "code",
   "execution_count": 3,
   "metadata": {
    "collapsed": true,
    "slideshow": {
     "slide_type": "fragment"
    }
   },
   "outputs": [],
   "source": [
    "# line model\n",
    "import numpy as np\n",
    "\n",
    "class Line(object):\n",
    "    def __init__(self, w0, w1):\n",
    "        self.w0 = w0\n",
    "        self.w1 = w1\n",
    "        \n",
    "    def predict(self, x, noise=0):\n",
    "        return (x*self.w1 + self.w0 + noise*np.random.normal())\n",
    "\n",
    "    # Input: data, a 2D array with each (x, t) pair on a row\n",
    "    # Return: w0 and w1, the intercept and slope of the fitted line\n",
    "    def learn(self, data):\n",
    "        # unvectored version\n",
    "        # sum_x = sum_t = sum_xx = sum_xt = 0\n",
    "        # n = data.shape[0]\n",
    "        # for (x, t) in data:\n",
    "        #     sum_x += x\n",
    "        #     sum_t += t\n",
    "        #     sum_xx += x*x\n",
    "        #     sum_xt += x*t\n",
    "        # w0 = (sum_xx*sum_t-sum_xt*sum_x)/(n*sum_xx-sum_x*sum_x)\n",
    "        # w1 = (n*sum_xt-sum_x*sum_t)/(n*sum_xx-sum_x*sum_x)\n",
    "        \n",
    "        # vectored version\n",
    "        data = data.transpose()\n",
    "        X = data[0]\n",
    "        T = data[1]\n",
    "        H = np.array([np.ones(len(X)), X]).transpose()\n",
    "        \n",
    "        Theta = np.linalg.inv((H.transpose()).dot(H)).dot(H.transpose()).dot(T)\n",
    "        w0 = Theta[0]\n",
    "        w1 = Theta[1]\n",
    "        return w0, w1"
   ]
  },
  {
   "cell_type": "code",
   "execution_count": 4,
   "metadata": {
    "collapsed": false,
    "slideshow": {
     "slide_type": "fragment"
    }
   },
   "outputs": [
    {
     "name": "stdout",
     "output_type": "stream",
     "text": [
      "truth:   0.6273846380904675 -0.5193989006035067\n",
      "predict: 0.628879281523 -0.502563040791\n"
     ]
    }
   ],
   "source": [
    "# test\n",
    "np.random.seed()\n",
    "\n",
    "w0 = np.asscalar(np.random.random(1))*2-1\n",
    "w1 = np.asscalar(np.random.random(1))*2-1\n",
    "\n",
    "line = Line(w0, w1)\n",
    "\n",
    "N = 20\n",
    "noise = 0.05\n",
    "X = np.random.random([N])\n",
    "T = []\n",
    "for x in X:\n",
    "    T.append(np.sum(line.predict(x, noise)))\n",
    "T = np.array(T)    \n",
    "\n",
    "#data = np.vstack((X, T)).transpose()\n",
    "data = np.array([X, T]).transpose()\n",
    "\n",
    "w0_fit, w1_fit = line.learn(data)\n",
    "\n",
    "line_fit = Line(w0_fit, w1_fit)\n",
    "\n",
    "print('truth:   ' + str(w0) + ' ' + str(w1))\n",
    "print('predict: ' + str(w0_fit) + ' ' + str(w1_fit))"
   ]
  },
  {
   "cell_type": "code",
   "execution_count": 5,
   "metadata": {
    "collapsed": false,
    "slideshow": {
     "slide_type": "fragment"
    }
   },
   "outputs": [
    {
     "data": {
      "image/png": "[encoded data removed]",
      "text/plain": [
       "<matplotlib.figure.Figure at 0x1095dd198>"
      ]
     },
     "metadata": {},
     "output_type": "display_data"
    }
   ],
   "source": [
    "# plot\n",
    "%matplotlib inline\n",
    "import matplotlib.pyplot as plt\n",
    "\n",
    "plt.scatter(data[:, 0], data[:, 1], color='black', marker='o')\n",
    "\n",
    "X_endpoints = [0, 1]\n",
    "Y_truth, Y_fit = [], []\n",
    "for x in X_endpoints:\n",
    "    Y_truth.append(line.predict(x))\n",
    "    Y_fit.append(line_fit.predict(x))\n",
    "    \n",
    "plt.plot(X_endpoints, Y_truth, color='blue', label='truth')\n",
    "plt.plot(X_endpoints, Y_fit, color='red', label='predict')\n",
    "\n",
    "plt.legend(loc='best')\n",
    "plt.tight_layout()\n",
    "plt.show()"
   ]
  }
 ],
 "metadata": {
  "anaconda-cloud": {},
  "celltoolbar": "Slideshow",
  "kernelspec": {
   "display_name": "Python [Root]",
   "language": "python",
   "name": "Python [Root]"
  },
  "language_info": {
   "codemirror_mode": {
    "name": "ipython",
    "version": 3
   },
   "file_extension": ".py",
   "mimetype": "text/x-python",
   "name": "python",
   "nbconvert_exporter": "python",
   "pygments_lexer": "ipython3",
   "version": "3.5.2"
  }
 },
 "nbformat": 4,
 "nbformat_minor": 0
}
