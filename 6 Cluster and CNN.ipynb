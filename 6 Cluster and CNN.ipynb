{
 "cells": [
  {
   "cell_type": "markdown",
   "metadata": {
    "slideshow": {
     "slide_type": "slide"
    }
   },
   "source": [
    "# Assignment 6\n",
    "\n",
    "This assignment has weighting $3.5$.\n",
    "The first question about clustering has 35%, and the second question about tiny image classification has 65%.\n",
    "\n",
    "This is a challenging assignment, so I recommend you start early."
   ]
  },
  {
   "cell_type": "markdown",
   "metadata": {
    "slideshow": {
     "slide_type": "slide"
    }
   },
   "source": [
    "# Clustering for handwritten digits\n",
    "\n",
    "Supervised learning requires labeled data, which can be expensive to acquire.\n",
    "For example, a dataset with $N$ samples for classification will require manual labeling $N$ times.\n",
    "\n",
    "One way to ameliorate this issue is to perform clustering of the raw data samples first, followed by manual inspection and labeling of only a few samples.\n",
    "Recall that clustering is a form of non-supervised learning, so it does not require any class labels.\n",
    "\n",
    "For example, say we are given a set of scanned hand-written digit images.\n",
    "We can cluster them into 10 groups first, manually inspect and label a few images in each cluster, and propagate the label towards the rest of all (unlabeled) samples in each cluster.\n",
    "\n",
    "The accuracy of such semi-automatic labeling depends on the accuracy of the clustering.\n",
    "If each cluster (0 to 9) corresponds exactly to hand-written digits 0-9, we are fine.\n",
    "Otherwise, we have some mis-labeled data.\n",
    "\n",
    "The goal of this question is to exercise clustering of the scikit-learn digits dataset which has labels, so that we can verify our clustering accuracy.\n",
    "The specifics are as follows.\n",
    "\n",
    "You will be judged by the test accuracy of your code, and quality of descriptions of your method.\n",
    "As a reference, a simple code I (Li-Yi) wrote can achieve about 78% accuracy. Try to beat it as much as you can."
   ]
  },
  {
   "cell_type": "markdown",
   "metadata": {
    "slideshow": {
     "slide_type": "subslide"
    }
   },
   "source": [
    "## Training and test data split\n",
    "\n",
    "We will split the original dataset into training and test datasets\n",
    "* training for building our clusters\n",
    "* testing to see if the clusters can predict future data\n",
    "\n",
    "## Accuracy\n",
    "What is your clustering accuracy (comparing cluster labels with the ground truth labels), and what are the properties of mis-clustered samples?\n",
    "\n",
    "## Data preprocessing\n",
    "Would the original features (pixels) work well, or we need further processing like scaling/standardization or dimensionality-reduction, before clustering?\n",
    "\n",
    "## Models and hyper-parameters\n",
    "\n",
    "Let's focus on k-means clustering, as hierarchical and density-based clustering do not provide the predict() method under scikit-learn.\n",
    "\n",
    "What is the best test performance you can achieve with which hyper-parameters (for k-means, standard scalar, and dimensionality reduction)?\n",
    "\n",
    "### Hint\n",
    "We have learned Pipeline and GridSearchCV for cross validation and hyper-parameter tuning."
   ]
  },
  {
   "cell_type": "code",
   "execution_count": 1,
   "metadata": {
    "collapsed": false,
    "scrolled": true,
    "slideshow": {
     "slide_type": "skip"
    }
   },
   "outputs": [
    {
     "name": "stdout",
     "output_type": "stream",
     "text": [
      "last updated: 2016-12-14 \n",
      "\n",
      "CPython 3.5.2\n",
      "IPython 5.1.0\n",
      "\n",
      "numpy 1.11.2\n",
      "pandas 0.19.1\n",
      "matplotlib 1.5.3\n",
      "scipy 0.18.1\n",
      "sklearn 0.18.1\n"
     ]
    }
   ],
   "source": [
    "%load_ext watermark\n",
    "%watermark -a '' -u -d -v -p numpy,pandas,matplotlib,scipy,sklearn\n",
    "%matplotlib inline"
   ]
  },
  {
   "cell_type": "code",
   "execution_count": 2,
   "metadata": {
    "collapsed": true,
    "slideshow": {
     "slide_type": "skip"
    }
   },
   "outputs": [],
   "source": [
    "# Added version check for recent scikit-learn 0.18 checks\n",
    "from distutils.version import LooseVersion as Version\n",
    "from sklearn import __version__ as sklearn_version"
   ]
  },
  {
   "cell_type": "markdown",
   "metadata": {
    "slideshow": {
     "slide_type": "fragment"
    }
   },
   "source": [
    "## Load data"
   ]
  },
  {
   "cell_type": "code",
   "execution_count": 3,
   "metadata": {
    "collapsed": false,
    "slideshow": {
     "slide_type": "fragment"
    }
   },
   "outputs": [
    {
     "name": "stdout",
     "output_type": "stream",
     "text": [
      "(1797, 64)\n",
      "(1797,)\n",
      "[0 1 2 3 4 5 6 7 8 9]\n"
     ]
    }
   ],
   "source": [
    "import numpy as np\n",
    "\n",
    "from sklearn.datasets import load_digits\n",
    "digits = load_digits()\n",
    "\n",
    "X = digits.data # data in pixels\n",
    "y = digits.target # digit labels\n",
    "\n",
    "print(X.shape)\n",
    "print(y.shape)\n",
    "\n",
    "print(np.unique(y))"
   ]
  },
  {
   "cell_type": "markdown",
   "metadata": {
    "slideshow": {
     "slide_type": "fragment"
    }
   },
   "source": [
    "## Visualize data"
   ]
  },
  {
   "cell_type": "code",
   "execution_count": 4,
   "metadata": {
    "collapsed": false,
    "slideshow": {
     "slide_type": "fragment"
    }
   },
   "outputs": [
    {
     "data": {
      "image/png": "[encoded data removed]",
      "text/plain": [
       "<matplotlib.figure.Figure at 0x114eb56a0>"
      ]
     },
     "metadata": {},
     "output_type": "display_data"
    }
   ],
   "source": [
    "import matplotlib.pyplot as plt\n",
    "import pylab as pl\n",
    "\n",
    "num_rows = 4\n",
    "num_cols = 5\n",
    "\n",
    "fig, ax = plt.subplots(nrows=num_rows, ncols=num_cols, sharex=True, sharey=True)\n",
    "ax = ax.flatten()\n",
    "for index in range(num_rows*num_cols):\n",
    "    img = digits.images[index]\n",
    "    label = digits.target[index]\n",
    "    ax[index].imshow(img, cmap='Greys', interpolation='nearest')\n",
    "    ax[index].set_title('digit ' + str(label))\n",
    "\n",
    "ax[0].set_xticks([])\n",
    "ax[0].set_yticks([])\n",
    "plt.tight_layout()\n",
    "plt.show()"
   ]
  },
  {
   "cell_type": "markdown",
   "metadata": {
    "slideshow": {
     "slide_type": "fragment"
    }
   },
   "source": [
    "## Data sets: training versus test"
   ]
  },
  {
   "cell_type": "code",
   "execution_count": 5,
   "metadata": {
    "collapsed": false,
    "slideshow": {
     "slide_type": "fragment"
    }
   },
   "outputs": [
    {
     "name": "stdout",
     "output_type": "stream",
     "text": [
      "training: 1257, test: 540\n"
     ]
    }
   ],
   "source": [
    "if Version(sklearn_version) < '0.18':\n",
    "    from sklearn.cross_validation import train_test_split\n",
    "else:\n",
    "    from sklearn.model_selection import train_test_split\n",
    "    \n",
    "X_train, X_test, y_train, y_test = train_test_split(\n",
    "    X, y, test_size=0.3, random_state=1)\n",
    "\n",
    "num_training = y_train.shape[0]\n",
    "num_test = y_test.shape[0]\n",
    "print('training: ' + str(num_training) + ', test: ' + str(num_test))"
   ]
  },
  {
   "cell_type": "code",
   "execution_count": 6,
   "metadata": {
    "collapsed": false,
    "slideshow": {
     "slide_type": "fragment"
    }
   },
   "outputs": [
    {
     "name": "stdout",
     "output_type": "stream",
     "text": [
      "[119 133 128 119 120 135 130 122 128 123]\n",
      "[59 49 49 64 61 47 51 57 46 57]\n"
     ]
    }
   ],
   "source": [
    "import numpy as np\n",
    "\n",
    "# check to see if the data are well distributed among digits\n",
    "for y in [y_train, y_test]:\n",
    "    print(np.bincount(y))"
   ]
  },
  {
   "cell_type": "markdown",
   "metadata": {
    "slideshow": {
     "slide_type": "subslide"
    }
   },
   "source": [
    "## Answer"
   ]
  },
  {
   "cell_type": "markdown",
   "metadata": {
    "slideshow": {
     "slide_type": "fragment"
    }
   },
   "source": [
    "We first write a scoring function for clustering so that we can use for GridSearchCV.\n",
    "Take a look at use_scorer under scikit learn."
   ]
  },
  {
   "cell_type": "code",
   "execution_count": 7,
   "metadata": {
    "collapsed": true,
    "slideshow": {
     "slide_type": "fragment"
    }
   },
   "outputs": [],
   "source": [
    "## Note: We do not guarantee that there is a one-to-one correspondence, and therefore the toy result is different.\n",
    "##       See Explanation for more information\n",
    "def clustering_accuracy_score(y_true, y_pred):\n",
    "    n_labels = len(list(set(y_true)))\n",
    "    n_clusters = len(list(set(y_pred)))\n",
    "    Pre = np.zeros((n_clusters, n_labels))\n",
    "    Rec = np.zeros((n_clusters, n_labels))\n",
    "    F = np.zeros((n_clusters, n_labels))\n",
    "    w = np.zeros((n_clusters))\n",
    "    F_i = np.zeros((n_clusters))\n",
    "    P = np.zeros((n_labels))\n",
    "    C = np.zeros((n_clusters))\n",
    "    \n",
    "    for i in range(n_clusters):\n",
    "        C[i] = sum(y_pred == i)\n",
    "    for j in range(n_labels):\n",
    "        P[j] = sum(y_true == j)\n",
    "    \n",
    "    for i in range(n_clusters):\n",
    "        F_i_max = 0\n",
    "        for j in range(n_labels):\n",
    "            if (C[i]):\n",
    "                Pre[i][j] = sum(y_pred[y_true == j] == i) / C[i]\n",
    "            if (P[j]):\n",
    "                Rec[i][j] = sum(y_true[y_pred == i] == j) / P[j]\n",
    "            if (Pre[i][j]+Rec[i][j]):\n",
    "                F[i][j] = 2*Pre[i][j]*Rec[i][j]/(Pre[i][j]+Rec[i][j])    \n",
    "            F_i_max = max(F_i_max, F[i][j])\n",
    "        F_i[i] = F_i_max\n",
    "        w[i] = sum(y_pred == i) / len(y_pred)\n",
    "    return F_i.dot(w)"
   ]
  },
  {
   "cell_type": "code",
   "execution_count": 8,
   "metadata": {
    "collapsed": false,
    "slideshow": {
     "slide_type": "fragment"
    }
   },
   "outputs": [
    {
     "name": "stdout",
     "output_type": "stream",
     "text": [
      "accuracy 1.0 , should be 1\n",
      "accuracy 0.833333333333 , should be 0.8333333333333334\n",
      "accuracy 0.75 , should be 0.6666666666666666 , this will be explained in the following content\n"
     ]
    }
   ],
   "source": [
    "# toy case demonstrating the clustering accuracy\n",
    "# this is just a reference to illustrate what this score function is trying to achieve\n",
    "# feel free to design your own as long as you can justify\n",
    "\n",
    "# ground truth class label for samples\n",
    "toy_y_true = np.array([0, 0, 0, 1, 1, 2])\n",
    "\n",
    "# clustering id for samples\n",
    "toy_y_pred_true = np.array([1, 1, 1, 2, 2, 0])\n",
    "toy_y_pred_bad1 = np.array([0, 0, 1, 1, 1, 2])\n",
    "toy_y_pred_bad2 = np.array([2, 2, 1, 0, 0, 0])\n",
    "\n",
    "toy_accuracy = clustering_accuracy_score(toy_y_true, toy_y_pred_true)\n",
    "print('accuracy', toy_accuracy, ', should be 1')\n",
    "\n",
    "toy_accuracy = clustering_accuracy_score(toy_y_true, toy_y_pred_bad1)\n",
    "print('accuracy', toy_accuracy, ', should be', 5.0/6.0)\n",
    "\n",
    "toy_accuracy = clustering_accuracy_score(toy_y_true, toy_y_pred_bad2)\n",
    "print('accuracy', toy_accuracy, ', should be', 4.0/6.0, ', this will be explained in the following content')"
   ]
  },
  {
   "cell_type": "markdown",
   "metadata": {},
   "source": [
    "## Explanation\n",
    "\n",
    "I adopt a modified version of F-value selection, that is, for each cluster, select the best label class with highest F-score. This accuracy calculating method supports the condition that number of clusters not equal to number of labels, which supports GridSearchCV on number of clusters.\n",
    "\n",
    "Formula: Let $C[i]$ denotes cluster $i$ and $P[j]$ denotes label $j$. Then for each $(i, j)$, we have<br><br>\n",
    "$$\n",
    "\\begin{align}\n",
    "\\text{Precision}[i][j] & = \\frac{\\left|C[i]\\cap P[j]\\right|}{|C[i]|} \\\\\n",
    "\\text{Recall}[i][j] & = \\frac{\\left|C[i]\\cap P[j]\\right|}{|P[j]|} \\\\\n",
    "\\text{F-value}[i][j] & = \\frac{ 2 \\times \\text{Precision}[i][j] \\times \\text{Recall}[i][j]}{\\text{Precision}[i][j] + \\text{Recall}[i][j]}.\n",
    "\\end{align}\n",
    "$$\n",
    "\n",
    "Then for each cluster, we search the best F-value for each label, that is,\n",
    "$$\\text{F-value}[i] = \\max\\limits_{j} \\text{F-value}[i][j].$$\n",
    "We also store the weight $w$ for each cluster, that is,\n",
    "$$w[i] = \\frac{|C[i]|}{n}$$\n",
    "\n",
    "Hence the final score is simply the dot product of $\\text{F-value}$ and $w$, which is the weighted F-score.\n",
    "\n",
    "Again, since this accuracy calculating method supports the condition that number of clusters not equal to number of labels, we __do not__ guarantee that there is a bijection between clusters and labels, therefore there are cases that some labels have no corresponding clusters, as the second toy example shows."
   ]
  },
  {
   "cell_type": "markdown",
   "metadata": {
    "slideshow": {
     "slide_type": "fragment"
    }
   },
   "source": [
    "Build a pipeline with standard scaler, PCA, and clustering."
   ]
  },
  {
   "cell_type": "code",
   "execution_count": 9,
   "metadata": {
    "collapsed": true,
    "slideshow": {
     "slide_type": "fragment"
    }
   },
   "outputs": [],
   "source": [
    "from sklearn.pipeline import Pipeline\n",
    "from sklearn.preprocessing import StandardScaler\n",
    "from sklearn.decomposition import KernelPCA\n",
    "from sklearn.cluster import KMeans\n",
    "from sklearn.metrics import make_scorer\n",
    "from scipy.stats import mode\n",
    "\n",
    "pipe = Pipeline([('scl', StandardScaler()),\n",
    "                 ('pca', KernelPCA()),\n",
    "                 ('km', KMeans(random_state=1))])\n",
    "\n",
    "# map cluster number to acutal label \n",
    "def cluster_mapping(y_true, y_pred):\n",
    "    mapping = {}\n",
    "    n_labels = len(list(set(y_true)))\n",
    "    n_clusters = len(list(set(y_pred)))\n",
    "    Pre = np.zeros((n_clusters, n_labels))\n",
    "    Rec = np.zeros((n_clusters, n_labels))\n",
    "    F = np.zeros((n_clusters, n_labels))\n",
    "    P = np.zeros((n_labels))\n",
    "    C = np.zeros((n_clusters))\n",
    "    \n",
    "    for i in range(n_clusters):\n",
    "        C[i] = sum(y_pred == i)\n",
    "    for j in range(n_labels):\n",
    "        P[j] = sum(y_true == j)\n",
    "    \n",
    "    for i in range(n_clusters):\n",
    "        F_i_max = 0\n",
    "        F_i_max_label = 0\n",
    "        for j in range(n_labels):\n",
    "            if (C[i]):\n",
    "                Pre[i][j] = sum(y_pred[y_true == j] == i) / C[i]\n",
    "            if (P[j]):\n",
    "                Rec[i][j] = sum(y_true[y_pred == i] == j) / P[j]\n",
    "            if (Pre[i][j]+Rec[i][j]):\n",
    "                F[i][j] = 2*Pre[i][j]*Rec[i][j]/(Pre[i][j]+Rec[i][j])    \n",
    "            if (F_i_max < F[i][j]):\n",
    "                F_i_max_label = j\n",
    "                F_i_max = F[i][j]\n",
    "        mapping[i] = F_i_max_label\n",
    "    return mapping"
   ]
  },
  {
   "cell_type": "markdown",
   "metadata": {
    "slideshow": {
     "slide_type": "fragment"
    }
   },
   "source": [
    "Use GridSearchCV to tune hyper-parameters."
   ]
  },
  {
   "cell_type": "code",
   "execution_count": 10,
   "metadata": {
    "collapsed": false,
    "slideshow": {
     "slide_type": "fragment"
    }
   },
   "outputs": [
    {
     "name": "stdout",
     "output_type": "stream",
     "text": [
      "0.824823005662\n",
      "{'pca__n_components': 15, 'scl__with_mean': True, 'pca__kernel': 'cosine', 'km__init': 'k-means++', 'km__n_clusters': 11, 'scl__with_std': False}\n"
     ]
    }
   ],
   "source": [
    "if Version(sklearn_version) < '0.18':\n",
    "    from sklearn.grid_search import GridSearchCV\n",
    "else:\n",
    "    from sklearn.model_selection import GridSearchCV\n",
    "\n",
    "pcs = list(range(1, 60))\n",
    "kernels = ['linear', 'rbf', 'cosine']\n",
    "initTypes = ['random', 'k-means++']\n",
    "clusters = list(range(10, 20))\n",
    "tfs = [True, False]\n",
    "\n",
    "param_grid = [{'pca__n_components': pcs,\n",
    "               'pca__kernel': kernels,\n",
    "               'km__init' : initTypes,\n",
    "               'km__n_clusters' : clusters,\n",
    "               'scl__with_std' : tfs,\n",
    "               'scl__with_mean' : tfs}]\n",
    "\n",
    "gs = GridSearchCV(estimator=pipe, \n",
    "                  param_grid=param_grid, \n",
    "                  scoring=make_scorer(clustering_accuracy_score), \n",
    "                  cv=10,\n",
    "                  n_jobs=-1,\n",
    "                  verbose=False)\n",
    "\n",
    "gs = gs.fit(X_train, y_train)\n",
    "print(gs.best_score_)\n",
    "print(gs.best_params_)"
   ]
  },
  {
   "cell_type": "code",
   "execution_count": 11,
   "metadata": {
    "collapsed": false
   },
   "outputs": [
    {
     "name": "stdout",
     "output_type": "stream",
     "text": [
      "Test accuracy: 0.844\n"
     ]
    }
   ],
   "source": [
    "best_model = gs.best_estimator_\n",
    "\n",
    "print('Test accuracy: %.3f' % clustering_accuracy_score(y_test, best_model.predict(X_test)))"
   ]
  },
  {
   "cell_type": "markdown",
   "metadata": {
    "slideshow": {
     "slide_type": "fragment"
    }
   },
   "source": [
    "Visualize mis-clustered samples, and provide your explanation."
   ]
  },
  {
   "cell_type": "code",
   "execution_count": 12,
   "metadata": {
    "collapsed": false,
    "scrolled": false
   },
   "outputs": [
    {
     "data": {
      "image/png": "[encoded data removed]",
      "text/plain": [
       "<matplotlib.figure.Figure at 0x1191ceef0>"
      ]
     },
     "metadata": {},
     "output_type": "display_data"
    }
   ],
   "source": [
    "mapping = cluster_mapping(y_train, best_model.predict(X_train))\n",
    "\n",
    "y_test_pred = np.array(list(map(lambda x: mapping[x], best_model.predict(X_test))))\n",
    "miscl_img = X_test[y_test != y_test_pred][:25]\n",
    "correct_lab = y_test[y_test != y_test_pred][:25]\n",
    "miscl_lab = y_test_pred[y_test != y_test_pred][:25]\n",
    "\n",
    "fig, ax = plt.subplots(nrows=5, ncols=5, sharex=True, sharey=True)\n",
    "ax = ax.flatten()\n",
    "for i in range(25):\n",
    "    img = miscl_img[i].reshape(8, 8)\n",
    "    ax[i].imshow(img, cmap='Greys', interpolation='nearest')\n",
    "    ax[i].set_title('%d) t: %d p: %d' % (i+1, correct_lab[i], miscl_lab[i]))\n",
    "\n",
    "ax[0].set_xticks([])\n",
    "ax[0].set_yticks([])\n",
    "plt.tight_layout()\n",
    "plt.show()"
   ]
  },
  {
   "cell_type": "markdown",
   "metadata": {
    "slideshow": {
     "slide_type": "fragment"
    }
   },
   "source": [
    "## Explanation\n",
    "Since the accuracy is 84.4%, which means more than 1 digit will be incorrectly clustered in a group of 10 digits, the error is still considered to be high (compared with using neural networks or other methods).\n",
    "The mis-clustered samples, as we can observe from the picture above, are generally two kinds:\n",
    "1. Hard to differentiate: e.g. No. 14, No. 21 and No, 22. It is even difficult for a human to tell which classes they should belong to.\n",
    "2. Blurred to much: e.g. No. 4, No. 18 and No. 19. Those can be differentiated by a human but seems too vague to be correctly clustered. \n",
    "\n",
    "Furthermore, we can find that digit '5' tends to be mis-clustered to digit '9' (e.g. No. 5, No. 17 and No. 18), and digit '9' tends to be mis-clustered to digit '1' and '7' (e.g. No. 1, No. 2, No. 8, No. 19, No. 23 and No. 24). The reason may be that the distance between those digit clusters are not far, and a digit lying around the border can be easily mis-clustered. For example, when the digit is blurred/vague.<br>\n",
    "Also, we can find from No. 10, No. 14, No. 15 that the digit '1' in the dataset are sometimes twisted, tilted or blurred. It's even hard for a human to tell whether it is digit '1' or not. From the examples, we can see that they tend to be clustered as digit '6' or '2' with respect to their shape and level of clarity."
   ]
  },
  {
   "cell_type": "markdown",
   "metadata": {
    "slideshow": {
     "slide_type": "slide"
    }
   },
   "source": [
    "# Tiny image classification\n",
    "\n",
    "We will use the [CIFAR-10 dataset](https://www.cs.toronto.edu/~kriz/cifar.html) for image object recognition.\n",
    "The dataset consists of 50000 training samples and 10000 test samples in 10 different classes (airplane, automobile, bird, cat, deer, dog, frog, horse, ship, truck; see the link above for more information).\n",
    "The goal is to maximize the accuracy of your classifier on the test dataset after being optimized via the training dataset.\n",
    "\n",
    "You can use any learning models (supervised or unsupervised) or optimization methods (e.g. search methods for hyper-parameters).\n",
    "The only requirement is that your code can run inside an ipynb file, as usual.\n",
    "Please provide a description of your method, in addition to the code.\n",
    "Your answer will be evaluated not only on the test accuracy but also on the creativity of your methodology and the quality of your explanation/description."
   ]
  },
  {
   "cell_type": "markdown",
   "metadata": {},
   "source": [
    "# Description\n",
    "\n",
    "## 1. Introduction\n",
    "\n",
    "### 1.1. High-level approach\n",
    "I adopted a Wide Residual Network with 28 convolutional layers and 10x width. As stated Zagoruyko et al's paper <sup>[1](#myfootnote1)</sup>, a 96.11% testing accuracy can be obtained.\n",
    "\n",
    "### 1.2. Reason\n",
    "Without cifar-10 data size-augmentation<sup>[2](#myfootnote2)</sup>, one of the best test results - a 93.57% testing accuracy is reported<sup>[3](#myfootnote3)</sup> with the famous deep residual netwook<sup>[4](#myfootnote4)</sup>. Since the desired testing accuracy is high, I decided to start from resnet. However, inspired by Zagoruyko et al, I choose to use a modified version of resent - the Wide Residual Network. <br><br>\n",
    "Wide resent basically increases the channel of each convolutional layer while decreasing the depth of the network. With result data from their work, a structure of 28 convolution layers and 10x width with dropout achieves the best result - 96.11% accuracy.<br><br>\n",
    "When training my network, however, I only found the result of their early version's paper<sup>[5](#myfootnote5)</sup>, which is training without dropout layer achieves better accuracy (which is also modified from 95.61% to 96.00% in the lastest version). Moreover, due to assignment time constraint, I simply use the default adadelta optimizer instead of [sgd + selected learning rate] in the first 100 itertaions, which may accounts for my less accurate result. After finetuning, in the end, I only get a 94.14% accuarcy, which is still higher than the original resnet.\n",
    "\n",
    "\n",
    "## 2. Method\n",
    "\n",
    "### 2.1 Data Preprocessing\n",
    "\n",
    "Using `keras.preprocessing.image.ImageDataGenerator`, the data preprocessing scheme I use is\n",
    "1. `featurewise_center`: Set feature-wise input mean to 0 over the dataset\n",
    "2. `featurewise_std_normalization`: Divide inputs by feature-wise std of the dataset\n",
    "3. `rotation_range`: 10$^{\\circ}$ range for random rotations\n",
    "4. `width_shift_range`: 15.625% random horizontal shifts\n",
    "5. `height_shift_range`: 15.625% random vertical shifts\n",
    "6. `horizontal_flip`: Randomly flip inputs horizontally\n",
    "\n",
    "Since `vertical_flip` looks unrealistic for a real-world picture, I did not use it. Also, `zca_whitening` may results in loss of image info, and other methods may more or less lead to problems in training.<br>\n",
    "\n",
    "Moreover, I did not adopte cifar-10 data size-augmentation<sup>[2](#myfootnote2)</sup>, which requires structural changes to my network, which may results in more time cost in training and finetuning. As the paper suggests, the test accuracy should increase compared with non-size-augmentated data.\n",
    "\n",
    "### 2.2 Model\n",
    "\n",
    "Since we use 28 convolutional layers, by structure of wide resnet, the layer blocks are:\n",
    "1. A initial block with 1 convolutional layers\n",
    "2. 4 conv1 block with 160 channels. All blocks contains 2 convolutional layers. The first block contains one additional residual convolutional layer. In total 3+2+2+2=9 convolutional layers. Each block ends with a residual merge.\n",
    "3. 4 conv2 block with 320 channels. All blocks contains 2 convolutional layers. The first block contains one additional residual convolutional layer. In total 3+2+2+2=9 convolutional layers. Each block ends with a residual merge.\n",
    "4. 4 conv3 block with 640 channels. All blocks contains 2 convolutional layers. The first block contains one additional residual convolutional layer. In total 3+2+2+2=9 convolutional layers. Each block ends with a residual merge.\n",
    "\n",
    "All convolutional layers are followed by a batch normalization layer and a relu layer.<br>\n",
    "After all layer blocks, we use average pooling to 8-by-8, followed by a flatten layer, and finalliy a fully connected layer (with softmax) of 10 outputs, which corresponds to each class.\n",
    "\n",
    "### 2.3 Hyper-parameter\n",
    "\n",
    "As discussed in 1.2, the most important hyper-parameter of wide resnet, also as Zagoruyko et al discribed, is N (the number of layers), K (the width of the convolutional channel), and dropout ratio. I adopted the best result from version 1 of their work, that is, N = 28, K = 10 (times original resnet), dropout ratio = 0. However, as their version 2 points out, this model with dropout can achieve a better result. Since the difference is just 0.11%, we can see that dropout may not influence much in wide resnet.\n",
    "\n",
    "### 2.4 Detailed Model\n",
    "\n",
    "You may view the detailed model in the following code output.\n",
    "\n",
    "## 3. Result\n",
    "\n",
    "| Network | Accuracy |\n",
    "|------------------------------------------|--------|\n",
    "| Kaiming He et al Resent | 93.57% |\n",
    "| My WRN-28-10 w/o dropout (Adadelta only) | 93.69% |\n",
    "| My WRN-28-10 w/o dropout (Fine-tuned) | 94.14% |\n",
    "| Zagoruyko et al WRN-28-10 v1 w/ dropout | 95.61% |\n",
    "| Zagoruyko et al WRN-28-10 v1 w/o dropout | 95.83% |\n",
    "| Zagoruyko et al WRN-28-10 v2 w/o dropout | 96.00% |\n",
    "| Zagoruyko et al WRN-28-10 v2 w/ dropout | 96.11% |\n",
    "\n",
    "With adadelta optimizer only, my training accuracy finally becomes 100%, which denotes an over-fitting and thus making the testing accuracy fail to improve. With SGD fine-tuning on the model, the testing accuracy increases around 0.45%. However, my model fail to achieve a testing accuracy above 95% as the papaer suggestes. See 4.2 Limitations for more analysis.<br>\n",
    "\n",
    "Note that the code I provided below simply uses the fine-tuned result of my network, and the training process is just for showing the result. They are not the original processes.\n",
    "\n",
    "## 4. Conclusion\n",
    "\n",
    "### 4.1 Traning Conclusion\n",
    "1. Wide Residual Network achieves better result than the original Residual Network.\n",
    "2. Optimizer choice, fine-tuning and data augmentation are curtial for improving the testing rate.\n",
    "3. Ideas that worked several years ago may not work nowadays, ideas that work on a specific model may not work on another model (e.g. importance of dropout, improving the depth always work on resnet)\n",
    "4. The importance of keeping track of the latest news and models on machine learning. \n",
    "\n",
    "### 4.2 Limitations\n",
    "1. Optimizer, Regulation and Over-fitting:\n",
    "With more time provided, I would try to use [different optimizer (adagrad, RMSprop, adam, sgd+specific training rate) + different Regulation (l1, l2)] instead of using adadelta only. This may account for the 1.5% accuracy below the paper's result. \n",
    "2. Dropout:\n",
    "As the second version of the paper suggested, with dropout the testing accuracy improved 0.11%. However, this should not be the major contraint of the result.\n",
    "3. Fine-tuning:\n",
    "I only ran 50 iterations of fine-tuning based on the training rate I set. The peak testing accuracy I obtained is 94.49% but was not saved during fine-tuning.\n",
    "4. Data Augmentation:\n",
    "Cifar-10 data size-augmentation<sup>[2](#myfootnote2)</sup> is proved to be useful to improve the testing rate, which I did not try during my training.\n",
    "5. FCN:\n",
    "Fully Convolutional Network<sup>[6](#myfootnote6)</sup> is proved to be useful to improve the testing rate. Also, R-FCN<sup>[7](#myfootnote7)</sup> provides a nice implimentation of Fully Convolutional Resnet. Maybe a wide, fully convolved residual network can provides a better result.\n",
    "6. Use of GPU:\n",
    "AWS refused to provide me with a GPU instance since I am a new user. I trained my network on my Nvidia GeForce GTX 980M, which takes 7 days to run 100 iterations. This heavily limited adjustments to my model.\n",
    "\n",
    "## 5. References\n",
    "<a name=\"myfootnote1\">1</a>: [Zagoruyko, Sergey, and Nikos Komodakis. \"Wide Residual Networks.\" arXiv preprint arXiv:1605.07146v2 (2016).](https://arxiv.org/pdf/1605.07146v2.pdf)<br>\n",
    "<a name=\"myfootnote2\">2</a>: [Graham, Benjamin. \"Fractional max-pooling.\" arXiv preprint arXiv:1412.6071 (2015).](https://arxiv.org/pdf/1412.6071v4.pdf)<br>\n",
    "<a name=\"myfootnote3\">3</a>: [Benenson. What is the class of this image ?\" rodrigob@github](http://rodrigob.github.io/are_we_there_yet/build/classification_datasets_results.html)<br>\n",
    "<a name=\"myfootnote4\">4</a>: [He, Kaiming, et al. \"Deep residual learning for image recognition.\" arXiv preprint arXiv:1512.03385 (2015).](https://arxiv.org/pdf/1512.03385v1.pdf)<br>\n",
    "<a name=\"myfootnote5\">5</a>: [Zagoruyko, Sergey, and Nikos Komodakis. \"Wide Residual Networks.\" arXiv preprint arXiv:1605.07146v1 (2016).](https://arxiv.org/pdf/1605.07146v1.pdf)<br>\n",
    "<a name=\"myfootnote6\">6</a>: [Long, Jonathan, Evan Shelhamer, and Trevor Darrell. \"Fully convolutional networks for semantic segmentation.\" IEEE Conference on CVPR. 2015.](http://www.cv-foundation.org/openaccess/content_cvpr_2015/papers/Long_Fully_Convolutional_Networks_2015_CVPR_paper.pdf)<br>\n",
    "<a name=\"myfootnote7\">7</a>: [Dai, Jifeng, et al. \"R-FCN: Object Detection via Region-based Fully Convolutional Networks.\" arXiv preprint arXiv:1605.06409 (2016).](https://arxiv.org/pdf/1605.06409.pdf)<br>\n",
    "All codes referenced have been specified in their context."
   ]
  },
  {
   "cell_type": "code",
   "execution_count": 1,
   "metadata": {
    "collapsed": false
   },
   "outputs": [
    {
     "name": "stderr",
     "output_type": "stream",
     "text": [
      "Using Theano backend.\n",
      "Using gpu device 0: GeForce GTX 980M (CNMeM is disabled, cuDNN 5005)\n"
     ]
    }
   ],
   "source": [
    "# Functions to build a user-defined wide resnet for cifa-10\n",
    "# Author: Somshubra Majumdar https://github.com/titu1994/Wide-Residual-Networks\n",
    "# Modified By: Gao Chang, HKU\n",
    "\n",
    "from keras.models import Model\n",
    "from keras.layers import Input, merge, Activation, Dropout, Flatten, Dense\n",
    "from keras.layers.convolutional import Convolution2D, MaxPooling2D, AveragePooling2D\n",
    "from keras.layers.normalization import BatchNormalization\n",
    "from keras import backend as K\n",
    "\n",
    "def initial_conv(input):\n",
    "    x = Convolution2D(16, 3, 3, border_mode='same')(input)\n",
    "\n",
    "    channel_axis = 1 if K.image_dim_ordering() == \"th\" else -1\n",
    "\n",
    "    x = BatchNormalization(axis=channel_axis)(x)\n",
    "    x = Activation('relu')(x)\n",
    "    return x\n",
    "\n",
    "def conv1_block(input, k=1, dropout=0.0):\n",
    "    init = input\n",
    "\n",
    "    channel_axis = 1 if K.image_dim_ordering() == \"th\" else -1\n",
    "\n",
    "    # Check if input number of filters is same as 16 * k, else create convolution2d for this input\n",
    "    if K.image_dim_ordering() == \"th\":\n",
    "        if init._keras_shape[1] != 16 * k:\n",
    "            init = Convolution2D(16 * k, 1, 1, activation='linear', border_mode='same')(init)\n",
    "    else:\n",
    "        if init._keras_shape[-1] != 16 * k:\n",
    "            init = Convolution2D(16 * k, 1, 1, activation='linear', border_mode='same')(init)\n",
    "\n",
    "    x = Convolution2D(16 * k, 3, 3, border_mode='same')(input)\n",
    "    x = BatchNormalization(axis=channel_axis)(x)\n",
    "    x = Activation('relu')(x)\n",
    "\n",
    "    if dropout > 0.0: x = Dropout(dropout)(x)\n",
    "\n",
    "    x = Convolution2D(16 * k, 3, 3, border_mode='same')(x)\n",
    "    x = BatchNormalization(axis=channel_axis)(x)\n",
    "    x = Activation('relu')(x)\n",
    "\n",
    "    m = merge([init, x], mode='sum')\n",
    "    return m\n",
    "\n",
    "def conv2_block(input, k=1, dropout=0.0):\n",
    "    init = input\n",
    "\n",
    "    channel_axis = 1 if K.image_dim_ordering() == \"th\" else -1\n",
    "\n",
    "    # Check if input number of filters is same as 32 * k, else create convolution2d for this input\n",
    "    if K.image_dim_ordering() == \"th\":\n",
    "        if init._keras_shape[1] != 32 * k:\n",
    "            init = Convolution2D(32 * k, 1, 1, activation='linear', border_mode='same')(init)\n",
    "    else:\n",
    "        if init._keras_shape[-1] != 32 * k:\n",
    "            init = Convolution2D(32 * k, 1, 1, activation='linear', border_mode='same')(init)\n",
    "\n",
    "    x = Convolution2D(32 * k, 3, 3, border_mode='same')(input)\n",
    "    x = BatchNormalization(axis=channel_axis)(x)\n",
    "    x = Activation('relu')(x)\n",
    "\n",
    "    if dropout > 0.0: x = Dropout(dropout)(x)\n",
    "\n",
    "    x = Convolution2D(32 * k, 3, 3, border_mode='same')(x)\n",
    "    x = BatchNormalization(axis=channel_axis)(x)\n",
    "    x = Activation('relu')(x)\n",
    "\n",
    "    m = merge([init, x], mode='sum')\n",
    "    return m\n",
    "\n",
    "def conv3_block(input, k=1, dropout=0.0):\n",
    "    init = input\n",
    "\n",
    "    channel_axis = 1 if K.image_dim_ordering() == \"th\" else -1\n",
    "\n",
    "    # Check if input number of filters is same as 64 * k, else create convolution2d for this input\n",
    "    if K.image_dim_ordering() == \"th\":\n",
    "        if init._keras_shape[1] != 64 * k:\n",
    "            init = Convolution2D(64 * k, 1, 1, activation='linear', border_mode='same')(init)\n",
    "    else:\n",
    "        if init._keras_shape[-1] != 64 * k:\n",
    "            init = Convolution2D(64 * k, 1, 1, activation='linear', border_mode='same')(init)\n",
    "\n",
    "    x = Convolution2D(64 * k, 3, 3, border_mode='same')(input)\n",
    "    x = BatchNormalization(axis=channel_axis)(x)\n",
    "    x = Activation('relu')(x)\n",
    "\n",
    "    if dropout > 0.0: x = Dropout(dropout)(x)\n",
    "\n",
    "    x = Convolution2D(64 * k, 3, 3, border_mode='same')(x)\n",
    "    x = BatchNormalization(axis=channel_axis)(x)\n",
    "    x = Activation('relu')(x)\n",
    "\n",
    "    m = merge([init, x], mode='sum')\n",
    "    return m\n",
    "\n",
    "def WRN(nb_classes, N, k, dropout):\n",
    "    \"\"\"\n",
    "    Creates a Wide Residual Network with specified parameters\n",
    "    :param nb_classes: Number of output classes\n",
    "    :param N: Depth of the network. Compute N = (n - 4) / 6.\n",
    "              Example : For a depth of 16, n = 16, N = (16 - 4) / 6 = 2\n",
    "              Example2: For a depth of 28, n = 28, N = (28 - 4) / 6 = 4\n",
    "              Example3: For a depth of 40, n = 40, N = (40 - 4) / 6 = 6\n",
    "    :param k: Width of the network.\n",
    "    :param dropout: Adds dropout if value is greater than 0.0\n",
    "    \"\"\"\n",
    "    init = Input(shape=(3, 32, 32))\n",
    "    \n",
    "    x = initial_conv(init)\n",
    "\n",
    "    for i in range(N):\n",
    "        x = conv1_block(x, k, dropout)\n",
    "        \n",
    "    x = MaxPooling2D((2,2))(x)\n",
    "\n",
    "    for i in range(N):\n",
    "        x = conv2_block(x, k, dropout)\n",
    "\n",
    "    x = MaxPooling2D((2,2))(x)\n",
    "\n",
    "    for i in range(N):\n",
    "        x = conv3_block(x, k, dropout)\n",
    "\n",
    "    x = AveragePooling2D((8,8))(x)\n",
    "    x = Flatten()(x)\n",
    "    x = Dense(nb_classes, activation='softmax')(x)\n",
    "\n",
    "    model = Model(init, x)\n",
    "    return model"
   ]
  },
  {
   "cell_type": "code",
   "execution_count": 2,
   "metadata": {
    "collapsed": false,
    "scrolled": true
   },
   "outputs": [
    {
     "name": "stdout",
     "output_type": "stream",
     "text": [
      "____________________________________________________________________________________________________\n",
      "Layer (type)                     Output Shape          Param #     Connected to                     \n",
      "====================================================================================================\n",
      "input_1 (InputLayer)             (None, 3, 32, 32)     0                                            \n",
      "____________________________________________________________________________________________________\n",
      "convolution2d_1 (Convolution2D)  (None, 16, 32, 32)    448         input_1[0][0]                    \n",
      "____________________________________________________________________________________________________\n",
      "batchnormalization_1 (BatchNormal(None, 16, 32, 32)    32          convolution2d_1[0][0]            \n",
      "____________________________________________________________________________________________________\n",
      "activation_1 (Activation)        (None, 16, 32, 32)    0           batchnormalization_1[0][0]       \n",
      "____________________________________________________________________________________________________\n",
      "convolution2d_3 (Convolution2D)  (None, 160, 32, 32)   23200       activation_1[0][0]               \n",
      "____________________________________________________________________________________________________\n",
      "batchnormalization_2 (BatchNormal(None, 160, 32, 32)   320         convolution2d_3[0][0]            \n",
      "____________________________________________________________________________________________________\n",
      "activation_2 (Activation)        (None, 160, 32, 32)   0           batchnormalization_2[0][0]       \n",
      "____________________________________________________________________________________________________\n",
      "convolution2d_4 (Convolution2D)  (None, 160, 32, 32)   230560      activation_2[0][0]               \n",
      "____________________________________________________________________________________________________\n",
      "batchnormalization_3 (BatchNormal(None, 160, 32, 32)   320         convolution2d_4[0][0]            \n",
      "____________________________________________________________________________________________________\n",
      "convolution2d_2 (Convolution2D)  (None, 160, 32, 32)   2720        activation_1[0][0]               \n",
      "____________________________________________________________________________________________________\n",
      "activation_3 (Activation)        (None, 160, 32, 32)   0           batchnormalization_3[0][0]       \n",
      "____________________________________________________________________________________________________\n",
      "merge_1 (Merge)                  (None, 160, 32, 32)   0           convolution2d_2[0][0]            \n",
      "                                                                   activation_3[0][0]               \n",
      "____________________________________________________________________________________________________\n",
      "convolution2d_5 (Convolution2D)  (None, 160, 32, 32)   230560      merge_1[0][0]                    \n",
      "____________________________________________________________________________________________________\n",
      "batchnormalization_4 (BatchNormal(None, 160, 32, 32)   320         convolution2d_5[0][0]            \n",
      "____________________________________________________________________________________________________\n",
      "activation_4 (Activation)        (None, 160, 32, 32)   0           batchnormalization_4[0][0]       \n",
      "____________________________________________________________________________________________________\n",
      "convolution2d_6 (Convolution2D)  (None, 160, 32, 32)   230560      activation_4[0][0]               \n",
      "____________________________________________________________________________________________________\n",
      "batchnormalization_5 (BatchNormal(None, 160, 32, 32)   320         convolution2d_6[0][0]            \n",
      "____________________________________________________________________________________________________\n",
      "activation_5 (Activation)        (None, 160, 32, 32)   0           batchnormalization_5[0][0]       \n",
      "____________________________________________________________________________________________________\n",
      "merge_2 (Merge)                  (None, 160, 32, 32)   0           merge_1[0][0]                    \n",
      "                                                                   activation_5[0][0]               \n",
      "____________________________________________________________________________________________________\n",
      "convolution2d_7 (Convolution2D)  (None, 160, 32, 32)   230560      merge_2[0][0]                    \n",
      "____________________________________________________________________________________________________\n",
      "batchnormalization_6 (BatchNormal(None, 160, 32, 32)   320         convolution2d_7[0][0]            \n",
      "____________________________________________________________________________________________________\n",
      "activation_6 (Activation)        (None, 160, 32, 32)   0           batchnormalization_6[0][0]       \n",
      "____________________________________________________________________________________________________\n",
      "convolution2d_8 (Convolution2D)  (None, 160, 32, 32)   230560      activation_6[0][0]               \n",
      "____________________________________________________________________________________________________\n",
      "batchnormalization_7 (BatchNormal(None, 160, 32, 32)   320         convolution2d_8[0][0]            \n",
      "____________________________________________________________________________________________________\n",
      "activation_7 (Activation)        (None, 160, 32, 32)   0           batchnormalization_7[0][0]       \n",
      "____________________________________________________________________________________________________\n",
      "merge_3 (Merge)                  (None, 160, 32, 32)   0           merge_2[0][0]                    \n",
      "                                                                   activation_7[0][0]               \n",
      "____________________________________________________________________________________________________\n",
      "convolution2d_9 (Convolution2D)  (None, 160, 32, 32)   230560      merge_3[0][0]                    \n",
      "____________________________________________________________________________________________________\n",
      "batchnormalization_8 (BatchNormal(None, 160, 32, 32)   320         convolution2d_9[0][0]            \n",
      "____________________________________________________________________________________________________\n",
      "activation_8 (Activation)        (None, 160, 32, 32)   0           batchnormalization_8[0][0]       \n",
      "____________________________________________________________________________________________________\n",
      "convolution2d_10 (Convolution2D) (None, 160, 32, 32)   230560      activation_8[0][0]               \n",
      "____________________________________________________________________________________________________\n",
      "batchnormalization_9 (BatchNormal(None, 160, 32, 32)   320         convolution2d_10[0][0]           \n",
      "____________________________________________________________________________________________________\n",
      "activation_9 (Activation)        (None, 160, 32, 32)   0           batchnormalization_9[0][0]       \n",
      "____________________________________________________________________________________________________\n",
      "merge_4 (Merge)                  (None, 160, 32, 32)   0           merge_3[0][0]                    \n",
      "                                                                   activation_9[0][0]               \n",
      "____________________________________________________________________________________________________\n",
      "maxpooling2d_1 (MaxPooling2D)    (None, 160, 16, 16)   0           merge_4[0][0]                    \n",
      "____________________________________________________________________________________________________\n",
      "convolution2d_12 (Convolution2D) (None, 320, 16, 16)   461120      maxpooling2d_1[0][0]             \n",
      "____________________________________________________________________________________________________\n",
      "batchnormalization_10 (BatchNorma(None, 320, 16, 16)   640         convolution2d_12[0][0]           \n",
      "____________________________________________________________________________________________________\n",
      "activation_10 (Activation)       (None, 320, 16, 16)   0           batchnormalization_10[0][0]      \n",
      "____________________________________________________________________________________________________\n",
      "convolution2d_13 (Convolution2D) (None, 320, 16, 16)   921920      activation_10[0][0]              \n",
      "____________________________________________________________________________________________________\n",
      "batchnormalization_11 (BatchNorma(None, 320, 16, 16)   640         convolution2d_13[0][0]           \n",
      "____________________________________________________________________________________________________\n",
      "convolution2d_11 (Convolution2D) (None, 320, 16, 16)   51520       maxpooling2d_1[0][0]             \n",
      "____________________________________________________________________________________________________\n",
      "activation_11 (Activation)       (None, 320, 16, 16)   0           batchnormalization_11[0][0]      \n",
      "____________________________________________________________________________________________________\n",
      "merge_5 (Merge)                  (None, 320, 16, 16)   0           convolution2d_11[0][0]           \n",
      "                                                                   activation_11[0][0]              \n",
      "____________________________________________________________________________________________________\n",
      "convolution2d_14 (Convolution2D) (None, 320, 16, 16)   921920      merge_5[0][0]                    \n",
      "____________________________________________________________________________________________________\n",
      "batchnormalization_12 (BatchNorma(None, 320, 16, 16)   640         convolution2d_14[0][0]           \n",
      "____________________________________________________________________________________________________\n",
      "activation_12 (Activation)       (None, 320, 16, 16)   0           batchnormalization_12[0][0]      \n",
      "____________________________________________________________________________________________________\n",
      "convolution2d_15 (Convolution2D) (None, 320, 16, 16)   921920      activation_12[0][0]              \n",
      "____________________________________________________________________________________________________\n",
      "batchnormalization_13 (BatchNorma(None, 320, 16, 16)   640         convolution2d_15[0][0]           \n",
      "____________________________________________________________________________________________________\n",
      "activation_13 (Activation)       (None, 320, 16, 16)   0           batchnormalization_13[0][0]      \n",
      "____________________________________________________________________________________________________\n",
      "merge_6 (Merge)                  (None, 320, 16, 16)   0           merge_5[0][0]                    \n",
      "                                                                   activation_13[0][0]              \n",
      "____________________________________________________________________________________________________\n",
      "convolution2d_16 (Convolution2D) (None, 320, 16, 16)   921920      merge_6[0][0]                    \n",
      "____________________________________________________________________________________________________\n",
      "batchnormalization_14 (BatchNorma(None, 320, 16, 16)   640         convolution2d_16[0][0]           \n",
      "____________________________________________________________________________________________________\n",
      "activation_14 (Activation)       (None, 320, 16, 16)   0           batchnormalization_14[0][0]      \n",
      "____________________________________________________________________________________________________\n",
      "convolution2d_17 (Convolution2D) (None, 320, 16, 16)   921920      activation_14[0][0]              \n",
      "____________________________________________________________________________________________________\n",
      "batchnormalization_15 (BatchNorma(None, 320, 16, 16)   640         convolution2d_17[0][0]           \n",
      "____________________________________________________________________________________________________\n",
      "activation_15 (Activation)       (None, 320, 16, 16)   0           batchnormalization_15[0][0]      \n",
      "____________________________________________________________________________________________________\n",
      "merge_7 (Merge)                  (None, 320, 16, 16)   0           merge_6[0][0]                    \n",
      "                                                                   activation_15[0][0]              \n",
      "____________________________________________________________________________________________________\n",
      "convolution2d_18 (Convolution2D) (None, 320, 16, 16)   921920      merge_7[0][0]                    \n",
      "____________________________________________________________________________________________________\n",
      "batchnormalization_16 (BatchNorma(None, 320, 16, 16)   640         convolution2d_18[0][0]           \n",
      "____________________________________________________________________________________________________\n",
      "activation_16 (Activation)       (None, 320, 16, 16)   0           batchnormalization_16[0][0]      \n",
      "____________________________________________________________________________________________________\n",
      "convolution2d_19 (Convolution2D) (None, 320, 16, 16)   921920      activation_16[0][0]              \n",
      "____________________________________________________________________________________________________\n",
      "batchnormalization_17 (BatchNorma(None, 320, 16, 16)   640         convolution2d_19[0][0]           \n",
      "____________________________________________________________________________________________________\n",
      "activation_17 (Activation)       (None, 320, 16, 16)   0           batchnormalization_17[0][0]      \n",
      "____________________________________________________________________________________________________\n",
      "merge_8 (Merge)                  (None, 320, 16, 16)   0           merge_7[0][0]                    \n",
      "                                                                   activation_17[0][0]              \n",
      "____________________________________________________________________________________________________\n",
      "maxpooling2d_2 (MaxPooling2D)    (None, 320, 8, 8)     0           merge_8[0][0]                    \n",
      "____________________________________________________________________________________________________\n",
      "convolution2d_21 (Convolution2D) (None, 640, 8, 8)     1843840     maxpooling2d_2[0][0]             \n",
      "____________________________________________________________________________________________________\n",
      "batchnormalization_18 (BatchNorma(None, 640, 8, 8)     1280        convolution2d_21[0][0]           \n",
      "____________________________________________________________________________________________________\n",
      "activation_18 (Activation)       (None, 640, 8, 8)     0           batchnormalization_18[0][0]      \n",
      "____________________________________________________________________________________________________\n",
      "convolution2d_22 (Convolution2D) (None, 640, 8, 8)     3687040     activation_18[0][0]              \n",
      "____________________________________________________________________________________________________\n",
      "batchnormalization_19 (BatchNorma(None, 640, 8, 8)     1280        convolution2d_22[0][0]           \n",
      "____________________________________________________________________________________________________\n",
      "convolution2d_20 (Convolution2D) (None, 640, 8, 8)     205440      maxpooling2d_2[0][0]             \n",
      "____________________________________________________________________________________________________\n",
      "activation_19 (Activation)       (None, 640, 8, 8)     0           batchnormalization_19[0][0]      \n",
      "____________________________________________________________________________________________________\n",
      "merge_9 (Merge)                  (None, 640, 8, 8)     0           convolution2d_20[0][0]           \n",
      "                                                                   activation_19[0][0]              \n",
      "____________________________________________________________________________________________________\n",
      "convolution2d_23 (Convolution2D) (None, 640, 8, 8)     3687040     merge_9[0][0]                    \n",
      "____________________________________________________________________________________________________\n",
      "batchnormalization_20 (BatchNorma(None, 640, 8, 8)     1280        convolution2d_23[0][0]           \n",
      "____________________________________________________________________________________________________\n",
      "activation_20 (Activation)       (None, 640, 8, 8)     0           batchnormalization_20[0][0]      \n",
      "____________________________________________________________________________________________________\n",
      "convolution2d_24 (Convolution2D) (None, 640, 8, 8)     3687040     activation_20[0][0]              \n",
      "____________________________________________________________________________________________________\n",
      "batchnormalization_21 (BatchNorma(None, 640, 8, 8)     1280        convolution2d_24[0][0]           \n",
      "____________________________________________________________________________________________________\n",
      "activation_21 (Activation)       (None, 640, 8, 8)     0           batchnormalization_21[0][0]      \n",
      "____________________________________________________________________________________________________\n",
      "merge_10 (Merge)                 (None, 640, 8, 8)     0           merge_9[0][0]                    \n",
      "                                                                   activation_21[0][0]              \n",
      "____________________________________________________________________________________________________\n",
      "convolution2d_25 (Convolution2D) (None, 640, 8, 8)     3687040     merge_10[0][0]                   \n",
      "____________________________________________________________________________________________________\n",
      "batchnormalization_22 (BatchNorma(None, 640, 8, 8)     1280        convolution2d_25[0][0]           \n",
      "____________________________________________________________________________________________________\n",
      "activation_22 (Activation)       (None, 640, 8, 8)     0           batchnormalization_22[0][0]      \n",
      "____________________________________________________________________________________________________\n",
      "convolution2d_26 (Convolution2D) (None, 640, 8, 8)     3687040     activation_22[0][0]              \n",
      "____________________________________________________________________________________________________\n",
      "batchnormalization_23 (BatchNorma(None, 640, 8, 8)     1280        convolution2d_26[0][0]           \n",
      "____________________________________________________________________________________________________\n",
      "activation_23 (Activation)       (None, 640, 8, 8)     0           batchnormalization_23[0][0]      \n",
      "____________________________________________________________________________________________________\n",
      "merge_11 (Merge)                 (None, 640, 8, 8)     0           merge_10[0][0]                   \n",
      "                                                                   activation_23[0][0]              \n",
      "____________________________________________________________________________________________________\n",
      "convolution2d_27 (Convolution2D) (None, 640, 8, 8)     3687040     merge_11[0][0]                   \n",
      "____________________________________________________________________________________________________\n",
      "batchnormalization_24 (BatchNorma(None, 640, 8, 8)     1280        convolution2d_27[0][0]           \n",
      "____________________________________________________________________________________________________\n",
      "activation_24 (Activation)       (None, 640, 8, 8)     0           batchnormalization_24[0][0]      \n",
      "____________________________________________________________________________________________________\n",
      "convolution2d_28 (Convolution2D) (None, 640, 8, 8)     3687040     activation_24[0][0]              \n",
      "____________________________________________________________________________________________________\n",
      "batchnormalization_25 (BatchNorma(None, 640, 8, 8)     1280        convolution2d_28[0][0]           \n",
      "____________________________________________________________________________________________________\n",
      "activation_25 (Activation)       (None, 640, 8, 8)     0           batchnormalization_25[0][0]      \n",
      "____________________________________________________________________________________________________\n",
      "merge_12 (Merge)                 (None, 640, 8, 8)     0           merge_11[0][0]                   \n",
      "                                                                   activation_25[0][0]              \n",
      "____________________________________________________________________________________________________\n",
      "averagepooling2d_1 (AveragePoolin(None, 640, 1, 1)     0           merge_12[0][0]                   \n",
      "____________________________________________________________________________________________________\n",
      "flatten_1 (Flatten)              (None, 640)           0           averagepooling2d_1[0][0]         \n",
      "____________________________________________________________________________________________________\n",
      "dense_1 (Dense)                  (None, 10)            6410        flatten_1[0][0]                  \n",
      "====================================================================================================\n",
      "Total params: 36489290\n",
      "____________________________________________________________________________________________________\n"
     ]
    }
   ],
   "source": [
    "import numpy as np\n",
    "import sklearn.metrics as metrics\n",
    "from keras.datasets import cifar10\n",
    "from keras.models import Model\n",
    "from keras.layers import Input\n",
    "from keras.optimizers import SGD\n",
    "import keras.callbacks as callbacks\n",
    "import keras.utils.np_utils as kutils\n",
    "from keras.preprocessing.image import ImageDataGenerator\n",
    "from sklearn.metrics import accuracy_score\n",
    "\n",
    "batch_size = 64\n",
    "nb_epoch = 5\n",
    "\n",
    "(X_train, y_train), (X_test, y_test) = cifar10.load_data()\n",
    "\n",
    "X_train = X_train.astype('float32')\n",
    "X_train /= 255.0\n",
    "X_test = X_test.astype('float32')\n",
    "X_test /= 255.0\n",
    "\n",
    "y_train = kutils.to_categorical(y_train)\n",
    "y_test = kutils.to_categorical(y_test)\n",
    "\n",
    "generator = ImageDataGenerator(featurewise_center=True,\n",
    "                               featurewise_std_normalization=True,\n",
    "                               rotation_range=10,\n",
    "                               width_shift_range=5./32,\n",
    "                               height_shift_range=5./32,\n",
    "                               horizontal_flip=True)\n",
    "\n",
    "generator.fit(X_train, seed=0, augment=True)\n",
    "\n",
    "test_generator = ImageDataGenerator(featurewise_center=True,\n",
    "                                    featurewise_std_normalization=True)\n",
    "\n",
    "test_generator.fit(X_test, seed=0, augment=True)\n",
    "\n",
    "model = WRN(nb_classes=10, N=4, k=10, dropout=0.0)\n",
    "\n",
    "model.summary()"
   ]
  },
  {
   "cell_type": "code",
   "execution_count": 3,
   "metadata": {
    "collapsed": false,
    "scrolled": true
   },
   "outputs": [
    {
     "name": "stdout",
     "output_type": "stream",
     "text": [
      "Start Training:\n",
      "Epoch 1/5\n",
      "50000/50000 [==============================] - 5208s - loss: 3.1280e-04 - acc: 1.0000 - val_loss: 0.3443 - val_acc: 0.9409\n",
      "Epoch 2/5\n",
      "50000/50000 [==============================] - 5009s - loss: 0.0023 - acc: 0.9992 - val_loss: 0.3471 - val_acc: 0.9406\n",
      "Epoch 3/5\n",
      "50000/50000 [==============================] - 5013s - loss: 0.0080 - acc: 0.9972 - val_loss: 0.3442 - val_acc: 0.9408\n",
      "Epoch 4/5\n",
      "50000/50000 [==============================] - 5013s - loss: 0.0086 - acc: 0.9970 - val_loss: 0.3287 - val_acc: 0.9444\n",
      "Epoch 5/5\n",
      "50000/50000 [==============================] - 5002s - loss: 0.0080 - acc: 0.9972 - val_loss: 0.3495 - val_acc: 0.9393\n"
     ]
    }
   ],
   "source": [
    "print (\"Start Training:\")\n",
    "\n",
    "sgd = SGD(lr = 0.001, decay = 0.1, momentum = 0.9, nesterov = True)\n",
    "\n",
    "model.compile(loss=\"categorical_crossentropy\", optimizer=sgd, metrics=[\"acc\"])\n",
    "\n",
    "# model.load_weights(\"WRN-28-10.h5\")\n",
    "\n",
    "model.fit_generator(generator.flow(X_train, y_train, batch_size=batch_size),\n",
    "                    samples_per_epoch=len(X_train),\n",
    "                    nb_epoch=nb_epoch,\n",
    "#                     callbacks=[callbacks.ModelCheckpoint(\"WRN-28-10-Best.h5\", monitor=\"val_acc\", save_best_only=True)],\n",
    "                    validation_data=test_generator.flow(X_test, y_test, batch_size=batch_size),\n",
    "                    nb_val_samples=X_test.shape[0],\n",
    "                    verbose = True)"
   ]
  },
  {
   "cell_type": "code",
   "execution_count": 6,
   "metadata": {
    "collapsed": false,
    "scrolled": true
   },
   "outputs": [
    {
     "name": "stdout",
     "output_type": "stream",
     "text": [
      "Start Testing:\n",
      "Results:\n",
      "Test loss: 0.3487206139005721\n",
      "Test accuracy: 0.9414\n"
     ]
    }
   ],
   "source": [
    "print (\"Start Testing:\")\n",
    "\n",
    "# model.load_weights(\"WRN-28-10.h5\")\n",
    "results = model.evaluate_generator(test_generator.flow(X_test, y_test, batch_size=batch_size), X_test.shape[0])\n",
    "\n",
    "print (\"Results:\")\n",
    "print (\"Test loss: {0}\".format(results[0]))\n",
    "print (\"Test accuracy: {0}\".format(results[1]))"
   ]
  }
 ],
 "metadata": {
  "anaconda-cloud": {},
  "celltoolbar": "Slideshow",
  "kernelspec": {
   "display_name": "Python [default]",
   "language": "python",
   "name": "python3"
  },
  "language_info": {
   "codemirror_mode": {
    "name": "ipython",
    "version": 3
   },
   "file_extension": ".py",
   "mimetype": "text/x-python",
   "name": "python",
   "nbconvert_exporter": "python",
   "pygments_lexer": "ipython3",
   "version": "3.5.2"
  },
  "name": "_merged"
 },
 "nbformat": 4,
 "nbformat_minor": 0
}
